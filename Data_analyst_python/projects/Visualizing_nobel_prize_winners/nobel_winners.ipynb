{
 "cells": [
  {
   "cell_type": "markdown",
   "metadata": {},
   "source": [
    "### Analyze Nobel Prize winner data and identify patterns by answering the following questions:"
   ]
  },
  {
   "cell_type": "code",
   "execution_count": 68,
   "metadata": {},
   "outputs": [],
   "source": [
    "import pandas as pd\n",
    "import matplotlib.pyplot as plt\n",
    "import seaborn as sns\n",
    "import numpy as np\n",
    "\n",
    "nobel = pd.read_csv('nobel.csv')\n",
    "nobel2 = pd.DataFrame"
   ]
  },
  {
   "cell_type": "markdown",
   "metadata": {},
   "source": [
    "#### What is the most commonly awarded gender and birth country?\n",
    "\n",
    "Store your answers as string variables top_gender and top_country.\n"
   ]
  },
  {
   "cell_type": "code",
   "execution_count": 69,
   "metadata": {},
   "outputs": [
    {
     "data": {
      "text/html": [
       "<div>\n",
       "<style scoped>\n",
       "    .dataframe tbody tr th:only-of-type {\n",
       "        vertical-align: middle;\n",
       "    }\n",
       "\n",
       "    .dataframe tbody tr th {\n",
       "        vertical-align: top;\n",
       "    }\n",
       "\n",
       "    .dataframe thead th {\n",
       "        text-align: right;\n",
       "    }\n",
       "</style>\n",
       "<table border=\"1\" class=\"dataframe\">\n",
       "  <thead>\n",
       "    <tr style=\"text-align: right;\">\n",
       "      <th></th>\n",
       "      <th>year</th>\n",
       "      <th>category</th>\n",
       "      <th>prize</th>\n",
       "      <th>motivation</th>\n",
       "      <th>prize_share</th>\n",
       "      <th>laureate_id</th>\n",
       "      <th>laureate_type</th>\n",
       "      <th>full_name</th>\n",
       "      <th>birth_date</th>\n",
       "      <th>birth_city</th>\n",
       "      <th>birth_country</th>\n",
       "      <th>sex</th>\n",
       "      <th>organization_name</th>\n",
       "      <th>organization_city</th>\n",
       "      <th>organization_country</th>\n",
       "      <th>death_date</th>\n",
       "      <th>death_city</th>\n",
       "      <th>death_country</th>\n",
       "    </tr>\n",
       "  </thead>\n",
       "  <tbody>\n",
       "    <tr>\n",
       "      <th>0</th>\n",
       "      <td>1901</td>\n",
       "      <td>Chemistry</td>\n",
       "      <td>The Nobel Prize in Chemistry 1901</td>\n",
       "      <td>\"in recognition of the extraordinary services ...</td>\n",
       "      <td>1/1</td>\n",
       "      <td>160</td>\n",
       "      <td>Individual</td>\n",
       "      <td>Jacobus Henricus van 't Hoff</td>\n",
       "      <td>1852-08-30</td>\n",
       "      <td>Rotterdam</td>\n",
       "      <td>Netherlands</td>\n",
       "      <td>Male</td>\n",
       "      <td>Berlin University</td>\n",
       "      <td>Berlin</td>\n",
       "      <td>Germany</td>\n",
       "      <td>1911-03-01</td>\n",
       "      <td>Berlin</td>\n",
       "      <td>Germany</td>\n",
       "    </tr>\n",
       "    <tr>\n",
       "      <th>1</th>\n",
       "      <td>1901</td>\n",
       "      <td>Literature</td>\n",
       "      <td>The Nobel Prize in Literature 1901</td>\n",
       "      <td>\"in special recognition of his poetic composit...</td>\n",
       "      <td>1/1</td>\n",
       "      <td>569</td>\n",
       "      <td>Individual</td>\n",
       "      <td>Sully Prudhomme</td>\n",
       "      <td>1839-03-16</td>\n",
       "      <td>Paris</td>\n",
       "      <td>France</td>\n",
       "      <td>Male</td>\n",
       "      <td>NaN</td>\n",
       "      <td>NaN</td>\n",
       "      <td>NaN</td>\n",
       "      <td>1907-09-07</td>\n",
       "      <td>Châtenay</td>\n",
       "      <td>France</td>\n",
       "    </tr>\n",
       "  </tbody>\n",
       "</table>\n",
       "</div>"
      ],
      "text/plain": [
       "   year    category                               prize  \\\n",
       "0  1901   Chemistry   The Nobel Prize in Chemistry 1901   \n",
       "1  1901  Literature  The Nobel Prize in Literature 1901   \n",
       "\n",
       "                                          motivation prize_share  laureate_id  \\\n",
       "0  \"in recognition of the extraordinary services ...         1/1          160   \n",
       "1  \"in special recognition of his poetic composit...         1/1          569   \n",
       "\n",
       "  laureate_type                     full_name  birth_date birth_city  \\\n",
       "0    Individual  Jacobus Henricus van 't Hoff  1852-08-30  Rotterdam   \n",
       "1    Individual               Sully Prudhomme  1839-03-16      Paris   \n",
       "\n",
       "  birth_country   sex  organization_name organization_city  \\\n",
       "0   Netherlands  Male  Berlin University            Berlin   \n",
       "1        France  Male                NaN               NaN   \n",
       "\n",
       "  organization_country  death_date death_city death_country  \n",
       "0              Germany  1911-03-01     Berlin       Germany  \n",
       "1                  NaN  1907-09-07   Châtenay        France  "
      ]
     },
     "execution_count": 69,
     "metadata": {},
     "output_type": "execute_result"
    }
   ],
   "source": [
    "nobel.head(2)"
   ]
  },
  {
   "cell_type": "code",
   "execution_count": 70,
   "metadata": {},
   "outputs": [
    {
     "name": "stdout",
     "output_type": "stream",
     "text": [
      "The gender with most winners is: Male\n",
      "The country with more born winners is: United States of America\n"
     ]
    }
   ],
   "source": [
    "# Filter the data and select the most common category\n",
    "top_gender = nobel.value_counts('sex').index[0]\n",
    "top_country = nobel.value_counts('birth_country').index[0]\n",
    "print(f'The gender with most winners is: {top_gender}')\n",
    "print(f'The country with more born winners is: {top_country}')"
   ]
  },
  {
   "cell_type": "markdown",
   "metadata": {},
   "source": [
    "#### Which decade had the highest ratio of US-born Nobel Prize winners to total winners in all categories?\n",
    "\n",
    "Store this as an integer called max_decade_usa."
   ]
  },
  {
   "cell_type": "code",
   "execution_count": 71,
   "metadata": {},
   "outputs": [
    {
     "name": "stdout",
     "output_type": "stream",
     "text": [
      "The decade with the most Nobel Prize winners from the USA is: 2000\n"
     ]
    }
   ],
   "source": [
    "# Create a new column for the decade\n",
    "nobel['decade'] = (nobel['year'] // 10) * 10\n",
    "\n",
    "# Filter the dataframe for winners from the United States of America\n",
    "us_winners = nobel[nobel['birth_country'] == 'United States of America']\n",
    "\n",
    "# Count the number of winners per decade\n",
    "decade_counts = us_winners['decade'].value_counts()\n",
    "\n",
    "# Find the decade with the maximum count\n",
    "max_decade_usa = int(decade_counts.idxmax())\n",
    "\n",
    "print(f'The decade with the most Nobel Prize winners from the USA is: {max_decade_usa}')"
   ]
  },
  {
   "cell_type": "markdown",
   "metadata": {},
   "source": [
    "#### Which decade and Nobel Prize category combination had the highest proportion of female laureates?\n",
    "\n",
    "Store this as a dictionary called max_female_dict where the decade is the key and the category is the value. There should only be one key:value pair."
   ]
  },
  {
   "cell_type": "code",
   "execution_count": 72,
   "metadata": {},
   "outputs": [
    {
     "name": "stdout",
     "output_type": "stream",
     "text": [
      "{2020: 'Literature'}\n"
     ]
    }
   ],
   "source": [
    "# Calculating the proportion of female laureates per decade\n",
    "nobel['female_winner'] = nobel['sex'] == 'Female'\n",
    "prop_female_winners = nobel.groupby(['decade', 'category'], as_index=False)['female_winner'].mean()\n",
    "\n",
    "# Find the decade and category with the highest proportion of female laureates\n",
    "max_female_decade_category = prop_female_winners[prop_female_winners['female_winner'] == prop_female_winners['female_winner'].max()][['decade', 'category']]\n",
    "\n",
    "# Create a dictionary with the decade and category pair\n",
    "max_female_dict = {max_female_decade_category['decade'].values[0]: max_female_decade_category['category'].values[0]}\n",
    "print(max_female_dict)"
   ]
  },
  {
   "cell_type": "code",
   "execution_count": 73,
   "metadata": {},
   "outputs": [
    {
     "name": "stdout",
     "output_type": "stream",
     "text": [
      "decade           1900\n",
      "category    Chemistry\n",
      "dtype: object\n"
     ]
    }
   ],
   "source": [
    "# Calcular la proporción de ganadoras femeninas y masculinas sin columnas adicionales\n",
    "prop_winners = nobel.groupby(['decade', 'category'], as_index=False).agg(\n",
    "    female_proportion=('female_winner', 'mean')\n",
    ")\n",
    "prop_winners['male_proportion'] = 1 - prop_winners['female_proportion']\n",
    "\n",
    "# Encontrar la década y categoría con la mayor proporción de ganadores masculinos\n",
    "max_male_decade_category = prop_winners[prop_winners['male_proportion'] == prop_winners['male_proportion'].max()][['decade', 'category']].min()\n",
    "\n",
    "print(max_male_decade_category[['decade', 'category']])\n"
   ]
  },
  {
   "cell_type": "markdown",
   "metadata": {},
   "source": [
    "#### Who was the first woman to receive a Nobel Prize, and in what category?\n",
    "\n",
    "Save your string answers as first_woman_name and first_woman_category."
   ]
  },
  {
   "cell_type": "code",
   "execution_count": 74,
   "metadata": {},
   "outputs": [
    {
     "name": "stdout",
     "output_type": "stream",
     "text": [
      "\n",
      " The first woman to win a Nobel Prize was Marie Curie, née Sklodowska, in the category of Physics.\n"
     ]
    }
   ],
   "source": [
    "\n",
    "# Finding the first woman to win a Nobel Prize\n",
    "nobel_women = nobel[nobel['female_winner']]\n",
    "min_row = nobel_women[nobel_women['year'] == nobel_women['year'].min()]\n",
    "first_woman_name = min_row['full_name'].values[0]\n",
    "first_woman_category = min_row['category'].values[0]\n",
    "print(f\"\\n The first woman to win a Nobel Prize was {first_woman_name}, in the category of {first_woman_category}.\")"
   ]
  },
  {
   "cell_type": "markdown",
   "metadata": {},
   "source": [
    "#### Which individuals or organizations have won more than one Nobel Prize throughout the years?\n",
    "\n",
    "Store the full names in a list named repeat_list.   xg boost"
   ]
  },
  {
   "cell_type": "code",
   "execution_count": 75,
   "metadata": {},
   "outputs": [
    {
     "name": "stdout",
     "output_type": "stream",
     "text": [
      "\n",
      " The repeat winners are : ['Comité international de la Croix Rouge (International Committee of the Red Cross)', 'Linus Carl Pauling', 'John Bardeen', 'Frederick Sanger', 'Marie Curie, née Sklodowska', 'Office of the United Nations High Commissioner for Refugees (UNHCR)']\n"
     ]
    }
   ],
   "source": [
    "# Selecting the laureates that have received 2 or more prizes\n",
    "counts = nobel['full_name'].value_counts()\n",
    "repeats = counts[counts >= 2].index\n",
    "repeat_list = list(repeats)\n",
    "\n",
    "print(\"\\n The repeat winners are :\", repeat_list)"
   ]
  }
 ],
 "metadata": {
  "kernelspec": {
   "display_name": "base",
   "language": "python",
   "name": "python3"
  },
  "language_info": {
   "codemirror_mode": {
    "name": "ipython",
    "version": 3
   },
   "file_extension": ".py",
   "mimetype": "text/x-python",
   "name": "python",
   "nbconvert_exporter": "python",
   "pygments_lexer": "ipython3",
   "version": "3.11.8"
  }
 },
 "nbformat": 4,
 "nbformat_minor": 2
}
