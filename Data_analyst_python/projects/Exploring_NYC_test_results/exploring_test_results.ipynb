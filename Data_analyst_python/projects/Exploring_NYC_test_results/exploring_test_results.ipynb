{
 "cells": [
  {
   "cell_type": "markdown",
   "metadata": {},
   "source": [
    "Every year, American high school students take SATs, which are standardized tests intended to measure literacy, numeracy, and writing skills. There are three sections - reading, math, and writing, each with a maximum score of 800 points. These tests are extremely important for students and colleges, as they play a pivotal role in the admissions process.\n",
    "\n",
    "Analyzing the performance of schools is important for a variety of stakeholders, including policy and education professionals, researchers, government, and even parents considering which school their children should attend.\n",
    "\n",
    "You have been provided with a dataset called schools.csv, which is previewed below.\n",
    "\n",
    "You have been tasked with answering three key questions about New York City (NYC) public school SAT performance."
   ]
  },
  {
   "cell_type": "code",
   "execution_count": 2,
   "metadata": {},
   "outputs": [],
   "source": [
    "import pandas as pd\n",
    "\n",
    "school = pd.read_csv('schools.csv')"
   ]
  },
  {
   "cell_type": "markdown",
   "metadata": {},
   "source": [
    "Which NYC schools have the best math results?\n",
    "\n",
    "The best math results are at least 80% of the *maximum possible score of 800* for math.\n",
    "Save your results in a pandas DataFrame called best_math_schools, including \"school_name\" and \"average_math\" columns, sorted by \"average_math\" in descending order.\n",
    "What are the top 10 performing schools based on the combined SAT scores?\n",
    "\n",
    "Save your results as a pandas DataFrame called top_10_schools containing the \"school_name\" and a new column named \"total_SAT\", with results ordered by \"total_SAT\" in descending order (\"total_SAT\" being the sum of math, reading, and writing scores).\n",
    "Which single borough has the largest standard deviation in the combined SAT score?\n",
    "\n",
    "Save your results as a pandas DataFrame called largest_std_dev.\n",
    "The DataFrame should contain one row, with:\n",
    "\"borough\" - the name of the NYC borough with the largest standard deviation of \"total_SAT\".\n",
    "\"num_schools\" - the number of schools in the borough.\n",
    "\"average_SAT\" - the mean of \"total_SAT\".\n",
    "\"std_SAT\" - the standard deviation of \"total_SAT\".\n",
    "Round all numeric values to two decimal places."
   ]
  },
  {
   "cell_type": "code",
   "execution_count": null,
   "metadata": {},
   "outputs": [],
   "source": []
  }
 ],
 "metadata": {
  "kernelspec": {
   "display_name": "base",
   "language": "python",
   "name": "python3"
  },
  "language_info": {
   "codemirror_mode": {
    "name": "ipython",
    "version": 3
   },
   "file_extension": ".py",
   "mimetype": "text/x-python",
   "name": "python",
   "nbconvert_exporter": "python",
   "pygments_lexer": "ipython3",
   "version": "3.11.8"
  }
 },
 "nbformat": 4,
 "nbformat_minor": 2
}
