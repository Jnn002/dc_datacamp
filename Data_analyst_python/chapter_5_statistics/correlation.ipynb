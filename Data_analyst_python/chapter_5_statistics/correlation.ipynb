{
 "cells": [
  {
   "cell_type": "markdown",
   "metadata": {},
   "source": [
    "### Correlation \n",
    "\n",
    "##### Correlation is the relation between two variables\n",
    "\n",
    "Correlation coefficient\n",
    "- Quantifies the linear relationship between two variables\n",
    "- Is a number between 1 and -1 \n",
    "- Magnitude, corresponds to strenght of relationship\n",
    "- Sign, we have two signs (-, +) the sign corresponds to direction of relationship"
   ]
  }
 ],
 "metadata": {
  "kernelspec": {
   "display_name": "base",
   "language": "python",
   "name": "python3"
  },
  "language_info": {
   "name": "python",
   "version": "3.11.8"
  }
 },
 "nbformat": 4,
 "nbformat_minor": 2
}
