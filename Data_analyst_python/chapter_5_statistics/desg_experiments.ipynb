{
 "cells": [
  {
   "cell_type": "markdown",
   "metadata": {},
   "source": [
    "### A/B test\n",
    "###### The gold standard of experiments will use...\n",
    "- Randomized controlled trial\n",
    "  - Participants are assigned to treatment/control randomly, not based on any other characteristics\n",
    "  - Choosing randomly helps ensure that groups are comparable\n",
    "- Placebo\n",
    "  - Resembles treatment, but has no effect\n",
    "  - Paricipants won't know which group they are in\n",
    "    - Examples of this => Clinical trials use sugar pills, to make the people feel they are under the experiment even if they are not\n",
    "- Double blind trial\n",
    "  - The person who administering the treatment doesn't know wheteher the treatment is real or a placebo\n",
    "\n",
    "\n",
    "#### Longitudinal vs Cross-sectional studies\n",
    "\n",
    "- Longitudinal study\n",
    "  - Participants are followed over a period of time to examine effect of treatment on response\n",
    "  - This type of studies are most expensive over time\n",
    "-  Cross-sectional study\n",
    "   - Data on participants is collected from a single snpashot in time\n",
    "   - This type of studies are faster"
   ]
  },
  {
   "cell_type": "code",
   "execution_count": null,
   "metadata": {},
   "outputs": [],
   "source": []
  }
 ],
 "metadata": {
  "kernelspec": {
   "display_name": "base",
   "language": "python",
   "name": "python3"
  },
  "language_info": {
   "name": "python",
   "version": "3.11.8"
  }
 },
 "nbformat": 4,
 "nbformat_minor": 2
}
