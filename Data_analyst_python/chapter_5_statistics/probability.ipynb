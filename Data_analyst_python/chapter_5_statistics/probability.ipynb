{
 "cells": [
  {
   "cell_type": "markdown",
   "metadata": {},
   "source": [
    "### Probability in Python"
   ]
  },
  {
   "cell_type": "code",
   "execution_count": 21,
   "metadata": {},
   "outputs": [
    {
     "data": {
      "text/html": [
       "<div>\n",
       "<style scoped>\n",
       "    .dataframe tbody tr th:only-of-type {\n",
       "        vertical-align: middle;\n",
       "    }\n",
       "\n",
       "    .dataframe tbody tr th {\n",
       "        vertical-align: top;\n",
       "    }\n",
       "\n",
       "    .dataframe thead th {\n",
       "        text-align: right;\n",
       "    }\n",
       "</style>\n",
       "<table border=\"1\" class=\"dataframe\">\n",
       "  <thead>\n",
       "    <tr style=\"text-align: right;\">\n",
       "      <th></th>\n",
       "      <th>product</th>\n",
       "      <th>client</th>\n",
       "      <th>status</th>\n",
       "      <th>amount</th>\n",
       "      <th>num_users</th>\n",
       "    </tr>\n",
       "  </thead>\n",
       "  <tbody>\n",
       "    <tr>\n",
       "      <th>1</th>\n",
       "      <td>Product F</td>\n",
       "      <td>Current</td>\n",
       "      <td>Won</td>\n",
       "      <td>7389.52</td>\n",
       "      <td>19</td>\n",
       "    </tr>\n",
       "    <tr>\n",
       "      <th>2</th>\n",
       "      <td>Product C</td>\n",
       "      <td>New</td>\n",
       "      <td>Won</td>\n",
       "      <td>4493.01</td>\n",
       "      <td>43</td>\n",
       "    </tr>\n",
       "    <tr>\n",
       "      <th>3</th>\n",
       "      <td>Product B</td>\n",
       "      <td>New</td>\n",
       "      <td>Won</td>\n",
       "      <td>5738.09</td>\n",
       "      <td>87</td>\n",
       "    </tr>\n",
       "    <tr>\n",
       "      <th>4</th>\n",
       "      <td>Product I</td>\n",
       "      <td>Current</td>\n",
       "      <td>Won</td>\n",
       "      <td>2591.24</td>\n",
       "      <td>83</td>\n",
       "    </tr>\n",
       "    <tr>\n",
       "      <th>5</th>\n",
       "      <td>Product E</td>\n",
       "      <td>Current</td>\n",
       "      <td>Won</td>\n",
       "      <td>6622.97</td>\n",
       "      <td>17</td>\n",
       "    </tr>\n",
       "  </tbody>\n",
       "</table>\n",
       "</div>"
      ],
      "text/plain": [
       "     product   client status   amount  num_users\n",
       "1  Product F  Current    Won  7389.52         19\n",
       "2  Product C      New    Won  4493.01         43\n",
       "3  Product B      New    Won  5738.09         87\n",
       "4  Product I  Current    Won  2591.24         83\n",
       "5  Product E  Current    Won  6622.97         17"
      ]
     },
     "execution_count": 21,
     "metadata": {},
     "output_type": "execute_result"
    }
   ],
   "source": [
    "import pandas as pd\n",
    "import numpy as np\n",
    "import matplotlib.pyplot as plt\n",
    "\n",
    "amir = pd.read_csv('amir_deals.csv', index_col=0)\n",
    "\n",
    "amir.head()"
   ]
  },
  {
   "cell_type": "code",
   "execution_count": 16,
   "metadata": {},
   "outputs": [
    {
     "name": "stdout",
     "output_type": "stream",
     "text": [
      "product\n",
      "Product B    62\n",
      "Product D    40\n",
      "Product A    23\n",
      "Product C    15\n",
      "Product F    11\n",
      "Product H     8\n",
      "Product I     7\n",
      "Product E     5\n",
      "Product N     3\n",
      "Product G     2\n",
      "Product J     2\n",
      "Name: count, dtype: int64\n"
     ]
    }
   ],
   "source": [
    "# Access the 'product' column and use .value_counts()\n",
    "counts = amir['product'].value_counts()\n",
    "print(counts)"
   ]
  },
  {
   "cell_type": "markdown",
   "metadata": {},
   "source": [
    "### Law of Large numbers\n",
    "\n",
    "As the size of your sample increases, the sample mean will apporach the expected value"
   ]
  },
  {
   "cell_type": "code",
   "execution_count": 17,
   "metadata": {},
   "outputs": [
    {
     "name": "stdout",
     "output_type": "stream",
     "text": [
      "Prob to wait less than 5 mins: 0.16666666666666666\n",
      "Prob to wait more than 10, but less than 20 mins: 0.3333333333333333\n"
     ]
    }
   ],
   "source": [
    "# Min and max wait times for back-up that happens every 30 min\n",
    "min_time = 0\n",
    "max_time = 30\n",
    "\n",
    "# Import uniform from scipy.stats\n",
    "from scipy.stats import uniform\n",
    "\n",
    "\n",
    "# Calculate probability of waiting less than 5 mins\n",
    "\n",
    "prob_less_than_5 = uniform.cdf(5, min_time, max_time)\n",
    "print(f'Prob to wait less than 5 mins: {prob_less_than_5}')\n",
    "\n",
    "# calculate probability of waiting for more than 10 mins and less than 20 mins\n",
    "prob_more_than_10 = uniform.cdf(10, min_time, max_time)\n",
    "prob_more_than_20 = uniform.cdf(20, min_time, max_time)\n",
    "prob_more_than_10_less_than_20 = prob_more_than_20 - prob_more_than_10\n",
    "print(f'Prob to wait more than 10, but less than 20 mins: {prob_more_than_10_less_than_20}')"
   ]
  },
  {
   "cell_type": "markdown",
   "metadata": {},
   "source": [
    "## Binomial distribution"
   ]
  },
  {
   "cell_type": "code",
   "execution_count": 18,
   "metadata": {},
   "outputs": [
    {
     "data": {
      "text/plain": [
       "0.0081"
      ]
     },
     "execution_count": 18,
     "metadata": {},
     "output_type": "execute_result"
    }
   ],
   "source": [
    "from scipy.stats import binom\n",
    "\n",
    "# binom.rvs(number of trials, probability of success, size)\n",
    "\n",
    "# binom.pmf(variable_evaluated, number of trials, probability of success)\n",
    "np.random.seed(10)\n",
    "\n",
    "binom.pmf(3, 5, 0.1)\n",
    "\n",
    "# binom.cdf(variable_evaluated, number of trials, probability of success)"
   ]
  },
  {
   "cell_type": "markdown",
   "metadata": {},
   "source": [
    "## Normal Distribution"
   ]
  },
  {
   "cell_type": "code",
   "execution_count": 19,
   "metadata": {},
   "outputs": [
    {
     "data": {
      "text/plain": [
       "array([170.32110553, 166.00695282, 150.18219796, 160.94131305,\n",
       "       165.34935182, 155.95940107, 162.8585811 , 161.75983968,\n",
       "       161.03004002, 159.77779853, 164.03118333, 169.42126162,\n",
       "       154.24454031, 168.19791855, 162.60041091, 164.11596329,\n",
       "       153.04378452, 161.94595815, 171.39175901, 153.4413658 ,\n",
       "       147.15590204, 148.79639393, 162.86249115, 177.69477131,\n",
       "       168.86583877, 172.70835549, 161.69404451, 170.78597464,\n",
       "       159.10126408, 165.29242929, 159.12877968, 157.1548369 ,\n",
       "       161.92895807, 157.6670059 , 170.15931157, 162.36509295,\n",
       "       163.80146992, 158.63657364, 169.79530585, 155.87621349,\n",
       "       165.62162086, 158.54389676, 154.42396648, 157.57463948,\n",
       "       155.367862  , 159.51111653, 158.62601828, 163.18518955,\n",
       "       164.95606869, 159.9680582 ])"
      ]
     },
     "execution_count": 19,
     "metadata": {},
     "output_type": "execute_result"
    }
   ],
   "source": [
    "from scipy.stats import norm\n",
    "# Generating 50 random heights of womens\n",
    "\n",
    "# norm.ppf(probability, average, standard deviation)\n",
    "# norm.cdf(variable_evaluated, average, standard deviation)\n",
    "\n",
    "# norm.rvs(average, standard deviation, size)\n",
    "# norm.pdf(variable_evaluated, average, standard deviation)\n",
    "\n",
    "# nomr.sf(variable_evaluated, average, standard deviation)\n",
    "# norm.isf(probability, average, standard deviation)\n",
    "\n",
    "# norm.res(average, standard deviation, size)\n",
    "norm.rvs(161, 7, size = 50)"
   ]
  },
  {
   "cell_type": "code",
   "execution_count": 22,
   "metadata": {},
   "outputs": [
    {
     "data": {
      "image/png": "[encoded data removed]",
      "text/plain": [
       "<Figure size 640x480 with 1 Axes>"
      ]
     },
     "metadata": {},
     "output_type": "display_data"
    }
   ],
   "source": [
    "# exampels\n",
    "amir['amount'].hist(bins = 10)\n",
    "plt.show()"
   ]
  },
  {
   "cell_type": "markdown",
   "metadata": {},
   "source": [
    "### Poisson distribution\n",
    "\n",
    "- Events appear to happen at a certain rate, but completely at random\n",
    "- Examples\n",
    "  - Number of animals adopted from an animal shelter per week\n",
    "  - Number of people arriving at a restaurant perhour\n",
    "\n",
    "### Lambda\n",
    "Lamda is the average number of events per time interval"
   ]
  },
  {
   "cell_type": "code",
   "execution_count": 3,
   "metadata": {},
   "outputs": [
    {
     "data": {
      "text/plain": [
       "0.09160366159257921"
      ]
     },
     "execution_count": 3,
     "metadata": {},
     "output_type": "execute_result"
    }
   ],
   "source": [
    "from scipy.stats import poisson\n",
    "#* Example of dogs, average dogs adopted per week = 8\n",
    "# poisson.pmf(variable_evaluated, average(lambda))\n",
    "\n",
    "# Probability of adopting 5 dogs\n",
    "poisson.pmf(5, 8)"
   ]
  },
  {
   "cell_type": "code",
   "execution_count": 9,
   "metadata": {},
   "outputs": [
    {
     "data": {
      "text/plain": [
       "0.19123606207962532"
      ]
     },
     "execution_count": 9,
     "metadata": {},
     "output_type": "execute_result"
    }
   ],
   "source": [
    "# Probability of adopting less than 5 dogs\n",
    "poisson.cdf(5, 8)"
   ]
  },
  {
   "cell_type": "code",
   "execution_count": 11,
   "metadata": {},
   "outputs": [
    {
     "data": {
      "text/plain": [
       "0.8087639379203747"
      ]
     },
     "execution_count": 11,
     "metadata": {},
     "output_type": "execute_result"
    }
   ],
   "source": [
    "# Probability of adopting more 5 dogs\n",
    "1 - poisson.cdf(5, 8)"
   ]
  },
  {
   "cell_type": "code",
   "execution_count": 12,
   "metadata": {},
   "outputs": [
    {
     "data": {
      "text/plain": [
       "array([ 6,  9, 10,  6,  7,  7,  6,  3,  9,  6], dtype=int64)"
      ]
     },
     "execution_count": 12,
     "metadata": {},
     "output_type": "execute_result"
    }
   ],
   "source": [
    "# Sampling from a poisson distribution\n",
    "# poisson.rvs(average, size)\n",
    "poisson.rvs(8, size = 10)"
   ]
  },
  {
   "cell_type": "markdown",
   "metadata": {},
   "source": [
    "## Other distributons\n",
    "\n",
    "> #### Exponential Distribution => This distribution also uses Lamda and is continuos\n",
    "> Probability of time between Poisson Events\n",
    "> - Examples  \n",
    "> Probability of > 1 day between adoptions  \n",
    "> Probability of < 10 minutes between restuarant arrivals  \n",
    "> Probability of 6-8 monthos between earthquakes\n",
    "\n",
    "\n"
   ]
  },
  {
   "cell_type": "code",
   "execution_count": 15,
   "metadata": {},
   "outputs": [
    {
     "data": {
      "text/plain": [
       "0.3934693402873666"
      ]
     },
     "execution_count": 15,
     "metadata": {},
     "output_type": "execute_result"
    }
   ],
   "source": [
    "from scipy.stats import expon\n",
    "\n",
    "# Probability of waiting less than 1 mins\n",
    "# expon.cdf(variable_evaluated, scale)\n",
    "expon.cdf(1, scale = 2)\n"
   ]
  },
  {
   "cell_type": "code",
   "execution_count": 17,
   "metadata": {},
   "outputs": [
    {
     "data": {
      "text/plain": [
       "0.1353352832366127"
      ]
     },
     "execution_count": 17,
     "metadata": {},
     "output_type": "execute_result"
    }
   ],
   "source": [
    "# Probability of waiting more than 1 mins\n",
    "1 - expon.cdf(4, scale = 2)"
   ]
  },
  {
   "cell_type": "code",
   "execution_count": 18,
   "metadata": {},
   "outputs": [
    {
     "data": {
      "text/plain": [
       "0.4711953764760207"
      ]
     },
     "execution_count": 18,
     "metadata": {},
     "output_type": "execute_result"
    }
   ],
   "source": [
    "# Probability of waiting between 1 and 4 mins\n",
    "expon.cdf(4, scale = 2)- expon.cdf(1, scale = 2)"
   ]
  },
  {
   "cell_type": "markdown",
   "metadata": {},
   "source": [
    "### T-Distribution (Student's t distributions)\n",
    "\n",
    "***This distributions has  a new parameter, **degrees of freedom** which affects\n",
    "the thickness of the tails  \n",
    "- Lower df = thicker tails, higher standar deviations\n",
    "- Higher df = closer to normal distribution\n",
    "\n",
    "This distribution is useful for t-test, and confidence intervals\n",
    "\n",
    "### Log-normal distribution\n",
    "Variable whose logarith is normally distributed\n",
    "- Examples of this distributions are: \n",
    "  - Lenght of chess game\n",
    "  - Adult blood pressure\n",
    "  - Number of hospitalizacion in the 2020 COVID outbreak"
   ]
  }
 ],
 "metadata": {
  "kernelspec": {
   "display_name": "base",
   "language": "python",
   "name": "python3"
  },
  "language_info": {
   "codemirror_mode": {
    "name": "ipython",
    "version": 3
   },
   "file_extension": ".py",
   "mimetype": "text/x-python",
   "name": "python",
   "nbconvert_exporter": "python",
   "pygments_lexer": "ipython3",
   "version": "3.11.8"
  }
 },
 "nbformat": 4,
 "nbformat_minor": 2
}
