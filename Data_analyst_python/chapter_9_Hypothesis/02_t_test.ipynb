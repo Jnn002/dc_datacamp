{
 "cells": [
  {
   "cell_type": "markdown",
   "metadata": {},
   "source": []
  },
  {
   "cell_type": "code",
   "execution_count": 27,
   "metadata": {},
   "outputs": [],
   "source": [
    "import pandas as pd\n",
    "import numpy as np\n",
    "\n",
    "stack_overflow = pd.read_feather('datasets/stack_overflow.feather')"
   ]
  },
  {
   "cell_type": "markdown",
   "metadata": {},
   "source": [
    "H0: The mean compensation (in USD) is the same for those that coded first as a child and those that coded first as an adult  \n",
    "\n",
    "HA: The mean compensation (in USD) is **greater** for those that coded first as a child compared to those that coded first as an adult\n",
    "\n",
    "HA: µchild > µadulst\n",
    "\n",
    "HA: µchild - µadult > 0"
   ]
  },
  {
   "cell_type": "code",
   "execution_count": 28,
   "metadata": {},
   "outputs": [
    {
     "name": "stdout",
     "output_type": "stream",
     "text": [
      "xbar_child: 132419.5706214689\n",
      "xbar_adult: 111313.31104651163\n"
     ]
    }
   ],
   "source": [
    "mean_values = stack_overflow.groupby('age_first_code_cut')['converted_comp'].mean()\n",
    "\n",
    "xbar_child = mean_values['child']\n",
    "xbar_adult = mean_values['adult']\n",
    "\n",
    "print(f'xbar_child: {xbar_child}')\n",
    "print(f'xbar_adult: {xbar_adult}')"
   ]
  },
  {
   "attachments": {
    "image.png": {
     "image/png": "[encoded data removed]"
    }
   },
   "cell_type": "markdown",
   "metadata": {},
   "source": [
    "### Test statistics\n",
    "sample mean estimates the population mean  \n",
    "X̅ - a sample mean  \n",
    "X̅child - sample mean compensation for coding first as a child  \n",
    "X̅adult - sample mean compensation for coding first as an adult  \n",
    "\n",
    "X̅child - X̅adult   a test statistic\n",
    "\n",
    "\n",
    "#### Standardizing the text statistic\n",
    "\n",
    "z = (sample stat - population parameter) / standard error\n",
    "\n",
    "\n",
    "t = (difference in sample stats - difference in population parameters) / standard error\n",
    "\n",
    "t = ((X̅child - X̅adult) - (µchild - µadult)) / SE(X̅child - X̅adult)\n",
    "\n",
    "SE = sqr((s^2child / nchild) + (s^2adult / nadult))\n",
    "\n",
    "s = standard deviation of the variable\n",
    "\n",
    "n = is the sample size (number of observations in sample)\n",
    "\n",
    "![image.png](attachment:image.png)"
   ]
  },
  {
   "cell_type": "code",
   "execution_count": 29,
   "metadata": {},
   "outputs": [
    {
     "name": "stdout",
     "output_type": "stream",
     "text": [
      "255585.2401149758\n",
      "271546.5217287417\n"
     ]
    }
   ],
   "source": [
    "std_values = stack_overflow.groupby('age_first_code_cut')['converted_comp'].std()\n",
    "\n",
    "s_child = std_values['child']\n",
    "s_adult = std_values['adult']\n",
    "\n",
    "\n",
    "print(s_child)\n",
    "print(s_adult)"
   ]
  },
  {
   "cell_type": "code",
   "execution_count": 30,
   "metadata": {},
   "outputs": [],
   "source": [
    "n = stack_overflow.groupby('age_first_code_cut')['converted_comp'].count()\n",
    "\n",
    "n_child = n['child']\n",
    "n_adult = n['adult']"
   ]
  },
  {
   "cell_type": "code",
   "execution_count": 32,
   "metadata": {},
   "outputs": [
    {
     "name": "stdout",
     "output_type": "stream",
     "text": [
      "t_stat: 1.8699313316221844\n"
     ]
    }
   ],
   "source": [
    "\n",
    "numerator = xbar_child - xbar_adult\n",
    "denominator = np.sqrt(s_child**2/n_child + s_adult**2/n_adult)\n",
    "\n",
    "t_stat = numerator / denominator \n",
    "\n",
    "print(f't_stat: {t_stat}')"
   ]
  },
  {
   "cell_type": "markdown",
   "metadata": {},
   "source": [
    "### Calculatin p-values from t-statistics"
   ]
  },
  {
   "cell_type": "markdown",
   "metadata": {},
   "source": [
    "---------------------------------------------------------------------------------------------------------------------------------------------------------"
   ]
  }
 ],
 "metadata": {
  "kernelspec": {
   "display_name": "base",
   "language": "python",
   "name": "python3"
  },
  "language_info": {
   "codemirror_mode": {
    "name": "ipython",
    "version": 3
   },
   "file_extension": ".py",
   "mimetype": "text/x-python",
   "name": "python",
   "nbconvert_exporter": "python",
   "pygments_lexer": "ipython3",
   "version": "3.11.8"
  }
 },
 "nbformat": 4,
 "nbformat_minor": 2
}
