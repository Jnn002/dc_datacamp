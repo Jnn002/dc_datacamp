{
 "cells": [
  {
   "cell_type": "markdown",
   "metadata": {},
   "source": []
  },
  {
   "cell_type": "code",
   "execution_count": 4,
   "metadata": {},
   "outputs": [],
   "source": [
    "import pandas as pd\n",
    "import numpy as np\n",
    "\n",
    "stack_overflow = pd.read_feather('datasets/stack_overflow.feather')"
   ]
  },
  {
   "cell_type": "markdown",
   "metadata": {},
   "source": [
    "H0: The mean compensation (in USD) is the same for those that coded first as a child and those that coded first as an adult  \n",
    "\n",
    "HA: The mean compensation (in USD) is **greater** for those that coded first as a child compared to those that coded first as an adult\n",
    "\n",
    "HA: µchild > µadulst\n",
    "\n",
    "HA: µchild - µadult > 0"
   ]
  },
  {
   "cell_type": "code",
   "execution_count": 5,
   "metadata": {},
   "outputs": [
    {
     "data": {
      "text/plain": [
       "age_first_code_cut\n",
       "adult    111313.311047\n",
       "child    132419.570621\n",
       "Name: converted_comp, dtype: float64"
      ]
     },
     "execution_count": 5,
     "metadata": {},
     "output_type": "execute_result"
    }
   ],
   "source": [
    "stack_overflow.groupby('age_first_code_cut')['converted_comp'].mean()"
   ]
  },
  {
   "cell_type": "markdown",
   "metadata": {},
   "source": [
    "### Test statistics\n",
    "sample mean estimates the population mean  \n",
    "X̅ - a sample mean  \n",
    "X̅child - sample mean compensation for coding first as a child  \n",
    "X̅adult - sample mean compensation for coding first as an adult  \n",
    "\n",
    "X̅child - X̅adult   a test statistic\n",
    "\n",
    "\n",
    "#### Standardizing the text statistic\n",
    "\n",
    "z = (sample stat - population parameter) / standard error\n",
    "\n",
    "\n",
    "t = (difference in sample stats - difference in population parameters) / standard error\n",
    "\n",
    "t = ((X̅child - X̅adult) - (µchild - µadult)) / SE(X̅child - X̅adult)\n",
    "\n",
    "SE = sqr((s^2child / nchild) + (s^2adult / nadult))\n",
    "\n",
    "s = standard deviation of the variable\n",
    "\n",
    "n = is the sample size (number of observations in sample)"
   ]
  }
 ],
 "metadata": {
  "kernelspec": {
   "display_name": "base",
   "language": "python",
   "name": "python3"
  },
  "language_info": {
   "codemirror_mode": {
    "name": "ipython",
    "version": 3
   },
   "file_extension": ".py",
   "mimetype": "text/x-python",
   "name": "python",
   "nbconvert_exporter": "python",
   "pygments_lexer": "ipython3",
   "version": "3.11.8"
  }
 },
 "nbformat": 4,
 "nbformat_minor": 2
}
