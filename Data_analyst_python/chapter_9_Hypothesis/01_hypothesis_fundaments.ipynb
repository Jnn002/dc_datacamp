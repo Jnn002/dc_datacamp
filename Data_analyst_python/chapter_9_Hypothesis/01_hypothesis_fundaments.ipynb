{
 "cells": [
  {
   "cell_type": "markdown",
   "metadata": {},
   "source": [
    "# Hypothesis"
   ]
  },
  {
   "cell_type": "code",
   "execution_count": 38,
   "metadata": {},
   "outputs": [
    {
     "data": {
      "text/html": [
       "<div>\n",
       "<style scoped>\n",
       "    .dataframe tbody tr th:only-of-type {\n",
       "        vertical-align: middle;\n",
       "    }\n",
       "\n",
       "    .dataframe tbody tr th {\n",
       "        vertical-align: top;\n",
       "    }\n",
       "\n",
       "    .dataframe thead th {\n",
       "        text-align: right;\n",
       "    }\n",
       "</style>\n",
       "<table border=\"1\" class=\"dataframe\">\n",
       "  <thead>\n",
       "    <tr style=\"text-align: right;\">\n",
       "      <th></th>\n",
       "      <th>respondent</th>\n",
       "      <th>main_branch</th>\n",
       "      <th>hobbyist</th>\n",
       "      <th>age</th>\n",
       "      <th>age_1st_code</th>\n",
       "      <th>age_first_code_cut</th>\n",
       "      <th>comp_freq</th>\n",
       "      <th>comp_total</th>\n",
       "      <th>converted_comp</th>\n",
       "      <th>country</th>\n",
       "      <th>...</th>\n",
       "      <th>survey_length</th>\n",
       "      <th>trans</th>\n",
       "      <th>undergrad_major</th>\n",
       "      <th>webframe_desire_next_year</th>\n",
       "      <th>webframe_worked_with</th>\n",
       "      <th>welcome_change</th>\n",
       "      <th>work_week_hrs</th>\n",
       "      <th>years_code</th>\n",
       "      <th>years_code_pro</th>\n",
       "      <th>age_cat</th>\n",
       "    </tr>\n",
       "  </thead>\n",
       "  <tbody>\n",
       "    <tr>\n",
       "      <th>0</th>\n",
       "      <td>36.0</td>\n",
       "      <td>I am not primarily a developer, but I write co...</td>\n",
       "      <td>Yes</td>\n",
       "      <td>34.0</td>\n",
       "      <td>30.0</td>\n",
       "      <td>adult</td>\n",
       "      <td>Yearly</td>\n",
       "      <td>60000.0</td>\n",
       "      <td>77556.0</td>\n",
       "      <td>United Kingdom</td>\n",
       "      <td>...</td>\n",
       "      <td>Appropriate in length</td>\n",
       "      <td>No</td>\n",
       "      <td>Computer science, computer engineering, or sof...</td>\n",
       "      <td>Express;React.js</td>\n",
       "      <td>Express;React.js</td>\n",
       "      <td>Just as welcome now as I felt last year</td>\n",
       "      <td>40.0</td>\n",
       "      <td>4.0</td>\n",
       "      <td>3.0</td>\n",
       "      <td>At least 30</td>\n",
       "    </tr>\n",
       "    <tr>\n",
       "      <th>1</th>\n",
       "      <td>47.0</td>\n",
       "      <td>I am a developer by profession</td>\n",
       "      <td>Yes</td>\n",
       "      <td>53.0</td>\n",
       "      <td>10.0</td>\n",
       "      <td>child</td>\n",
       "      <td>Yearly</td>\n",
       "      <td>58000.0</td>\n",
       "      <td>74970.0</td>\n",
       "      <td>United Kingdom</td>\n",
       "      <td>...</td>\n",
       "      <td>Appropriate in length</td>\n",
       "      <td>No</td>\n",
       "      <td>A natural science (such as biology, chemistry,...</td>\n",
       "      <td>Flask;Spring</td>\n",
       "      <td>Flask;Spring</td>\n",
       "      <td>Just as welcome now as I felt last year</td>\n",
       "      <td>40.0</td>\n",
       "      <td>43.0</td>\n",
       "      <td>28.0</td>\n",
       "      <td>At least 30</td>\n",
       "    </tr>\n",
       "    <tr>\n",
       "      <th>2</th>\n",
       "      <td>69.0</td>\n",
       "      <td>I am a developer by profession</td>\n",
       "      <td>Yes</td>\n",
       "      <td>25.0</td>\n",
       "      <td>12.0</td>\n",
       "      <td>child</td>\n",
       "      <td>Yearly</td>\n",
       "      <td>550000.0</td>\n",
       "      <td>594539.0</td>\n",
       "      <td>France</td>\n",
       "      <td>...</td>\n",
       "      <td>Too short</td>\n",
       "      <td>No</td>\n",
       "      <td>Computer science, computer engineering, or sof...</td>\n",
       "      <td>Django;Flask</td>\n",
       "      <td>Django;Flask</td>\n",
       "      <td>Just as welcome now as I felt last year</td>\n",
       "      <td>40.0</td>\n",
       "      <td>13.0</td>\n",
       "      <td>3.0</td>\n",
       "      <td>Under 30</td>\n",
       "    </tr>\n",
       "    <tr>\n",
       "      <th>3</th>\n",
       "      <td>125.0</td>\n",
       "      <td>I am not primarily a developer, but I write co...</td>\n",
       "      <td>Yes</td>\n",
       "      <td>41.0</td>\n",
       "      <td>30.0</td>\n",
       "      <td>adult</td>\n",
       "      <td>Monthly</td>\n",
       "      <td>200000.0</td>\n",
       "      <td>2000000.0</td>\n",
       "      <td>United States</td>\n",
       "      <td>...</td>\n",
       "      <td>Appropriate in length</td>\n",
       "      <td>No</td>\n",
       "      <td>None</td>\n",
       "      <td>None</td>\n",
       "      <td>None</td>\n",
       "      <td>Just as welcome now as I felt last year</td>\n",
       "      <td>40.0</td>\n",
       "      <td>11.0</td>\n",
       "      <td>11.0</td>\n",
       "      <td>At least 30</td>\n",
       "    </tr>\n",
       "    <tr>\n",
       "      <th>4</th>\n",
       "      <td>147.0</td>\n",
       "      <td>I am not primarily a developer, but I write co...</td>\n",
       "      <td>No</td>\n",
       "      <td>28.0</td>\n",
       "      <td>15.0</td>\n",
       "      <td>adult</td>\n",
       "      <td>Yearly</td>\n",
       "      <td>50000.0</td>\n",
       "      <td>37816.0</td>\n",
       "      <td>Canada</td>\n",
       "      <td>...</td>\n",
       "      <td>Appropriate in length</td>\n",
       "      <td>No</td>\n",
       "      <td>Another engineering discipline (such as civil,...</td>\n",
       "      <td>None</td>\n",
       "      <td>Express;Flask</td>\n",
       "      <td>Just as welcome now as I felt last year</td>\n",
       "      <td>40.0</td>\n",
       "      <td>5.0</td>\n",
       "      <td>3.0</td>\n",
       "      <td>Under 30</td>\n",
       "    </tr>\n",
       "  </tbody>\n",
       "</table>\n",
       "<p>5 rows × 63 columns</p>\n",
       "</div>"
      ],
      "text/plain": [
       "   respondent                                        main_branch hobbyist  \\\n",
       "0        36.0  I am not primarily a developer, but I write co...      Yes   \n",
       "1        47.0                     I am a developer by profession      Yes   \n",
       "2        69.0                     I am a developer by profession      Yes   \n",
       "3       125.0  I am not primarily a developer, but I write co...      Yes   \n",
       "4       147.0  I am not primarily a developer, but I write co...       No   \n",
       "\n",
       "    age  age_1st_code age_first_code_cut comp_freq  comp_total  \\\n",
       "0  34.0          30.0              adult    Yearly     60000.0   \n",
       "1  53.0          10.0              child    Yearly     58000.0   \n",
       "2  25.0          12.0              child    Yearly    550000.0   \n",
       "3  41.0          30.0              adult   Monthly    200000.0   \n",
       "4  28.0          15.0              adult    Yearly     50000.0   \n",
       "\n",
       "   converted_comp         country  ...          survey_length trans  \\\n",
       "0         77556.0  United Kingdom  ...  Appropriate in length    No   \n",
       "1         74970.0  United Kingdom  ...  Appropriate in length    No   \n",
       "2        594539.0          France  ...              Too short    No   \n",
       "3       2000000.0   United States  ...  Appropriate in length    No   \n",
       "4         37816.0          Canada  ...  Appropriate in length    No   \n",
       "\n",
       "                                     undergrad_major  \\\n",
       "0  Computer science, computer engineering, or sof...   \n",
       "1  A natural science (such as biology, chemistry,...   \n",
       "2  Computer science, computer engineering, or sof...   \n",
       "3                                               None   \n",
       "4  Another engineering discipline (such as civil,...   \n",
       "\n",
       "  webframe_desire_next_year webframe_worked_with  \\\n",
       "0          Express;React.js     Express;React.js   \n",
       "1              Flask;Spring         Flask;Spring   \n",
       "2              Django;Flask         Django;Flask   \n",
       "3                      None                 None   \n",
       "4                      None        Express;Flask   \n",
       "\n",
       "                            welcome_change work_week_hrs years_code  \\\n",
       "0  Just as welcome now as I felt last year          40.0        4.0   \n",
       "1  Just as welcome now as I felt last year          40.0       43.0   \n",
       "2  Just as welcome now as I felt last year          40.0       13.0   \n",
       "3  Just as welcome now as I felt last year          40.0       11.0   \n",
       "4  Just as welcome now as I felt last year          40.0        5.0   \n",
       "\n",
       "  years_code_pro      age_cat  \n",
       "0            3.0  At least 30  \n",
       "1           28.0  At least 30  \n",
       "2            3.0     Under 30  \n",
       "3           11.0  At least 30  \n",
       "4            3.0     Under 30  \n",
       "\n",
       "[5 rows x 63 columns]"
      ]
     },
     "execution_count": 38,
     "metadata": {},
     "output_type": "execute_result"
    }
   ],
   "source": [
    "import pandas as pd\n",
    "import numpy as np\n",
    "import matplotlib.pyplot as plt\n",
    "import seaborn as sns\n",
    "\n",
    "stack_overflow = pd.read_feather('datasets/stack_overflow.feather')\n",
    "\n",
    "stack_overflow.head()"
   ]
  },
  {
   "cell_type": "code",
   "execution_count": 39,
   "metadata": {},
   "outputs": [
    {
     "name": "stdout",
     "output_type": "stream",
     "text": [
      "119574.72\n"
     ]
    }
   ],
   "source": [
    "# Hypothesis:\n",
    "#* The mean annual compensation of the population of data scientist is $110,000\n",
    "mean_comp_hyp = 110000 # Hypothesis mean\n",
    "\n",
    "mean_comp_samp = stack_overflow['converted_comp'].mean() # Sample mean\n",
    "print(f'{mean_comp_samp:.2f}')"
   ]
  },
  {
   "cell_type": "code",
   "execution_count": 40,
   "metadata": {},
   "outputs": [],
   "source": [
    "so_boot_distn = []\n",
    "for i in range(5000):\n",
    "    so_boot_distn.append(\n",
    "        np.mean(\n",
    "            stack_overflow.sample(frac = 1, replace = True)['converted_comp']\n",
    "        )\n",
    "    )"
   ]
  },
  {
   "cell_type": "code",
   "execution_count": 41,
   "metadata": {},
   "outputs": [
    {
     "data": {
      "image/png": "[encoded data removed]",
      "text/plain": [
       "<Figure size 640x480 with 1 Axes>"
      ]
     },
     "metadata": {},
     "output_type": "display_data"
    }
   ],
   "source": [
    "plt.hist(so_boot_distn, bins = 50)\n",
    "plt.show()"
   ]
  },
  {
   "cell_type": "code",
   "execution_count": 42,
   "metadata": {},
   "outputs": [
    {
     "name": "stdout",
     "output_type": "stream",
     "text": [
      "5534.41\n"
     ]
    }
   ],
   "source": [
    "# Standard error\n",
    "std_error = np.std(so_boot_distn, ddof = 1) # Standard error\n",
    "print(f'{std_error:.2f}')"
   ]
  },
  {
   "cell_type": "markdown",
   "metadata": {},
   "source": [
    "We need to calculate z-score"
   ]
  },
  {
   "cell_type": "code",
   "execution_count": 43,
   "metadata": {},
   "outputs": [
    {
     "name": "stdout",
     "output_type": "stream",
     "text": [
      "1.7300334828975892\n"
     ]
    }
   ],
   "source": [
    "z_score = (mean_comp_samp - mean_comp_hyp) / std_error\n",
    "print(z_score)"
   ]
  },
  {
   "cell_type": "markdown",
   "metadata": {},
   "source": [
    "> hypothesis is a statement about an unnown population parameter  \n",
    ">\n",
    "> A hypothesis is a test of two competing hypotheses\n",
    "> - The **null** hypotheses (H0) is the existing idea\n",
    "> - The **alternative** hypothesis (HA) is the new 'challenger' idea of the researcher"
   ]
  },
  {
   "cell_type": "code",
   "execution_count": 60,
   "metadata": {},
   "outputs": [
    {
     "name": "stdout",
     "output_type": "stream",
     "text": [
      "{'Proportion of data scientisf who started programming as children 0.391'}\n"
     ]
    }
   ],
   "source": [
    "# H0 => The proportion of data scientists staring proggramming as children is 35%\n",
    "prop_child_hyp = 0.35\n",
    "#HA => The proportion of data scientists staring proggramming as children is greater 35%\n",
    "\n",
    "prop_child_samp = (stack_overflow['age_first_code_cut'] == 'child').mean()\n",
    "print({f'Proportion of data scientisf who started programming as children {prop_child_samp:.3f}'})"
   ]
  },
  {
   "cell_type": "code",
   "execution_count": 61,
   "metadata": {},
   "outputs": [],
   "source": [
    "first_code_boot_distn = []\n",
    "\n",
    "for i in range(5000):\n",
    "    first_code_boot_distn.append(\n",
    "        (stack_overflow['age_first_code_cut'] == 'child').sample(frac = 1, replace = True).mean()\n",
    "    )\n"
   ]
  },
  {
   "cell_type": "code",
   "execution_count": 62,
   "metadata": {},
   "outputs": [
    {
     "name": "stdout",
     "output_type": "stream",
     "text": [
      "0.010\n"
     ]
    }
   ],
   "source": [
    "\n",
    "std_error = np.std(first_code_boot_distn, ddof = 1)\n",
    "print(f'{std_error:.3f}')"
   ]
  },
  {
   "cell_type": "code",
   "execution_count": 64,
   "metadata": {},
   "outputs": [
    {
     "name": "stdout",
     "output_type": "stream",
     "text": [
      "3.9512820065929355\n"
     ]
    }
   ],
   "source": [
    "z_score = (prop_child_samp - prop_child_hyp) / std_error\n",
    "print(z_score)"
   ]
  },
  {
   "cell_type": "markdown",
   "metadata": {},
   "source": [
    "##### Calculate the p-value"
   ]
  },
  {
   "cell_type": "code",
   "execution_count": 69,
   "metadata": {},
   "outputs": [
    {
     "name": "stdout",
     "output_type": "stream",
     "text": [
      "3.8866829898398514e-05\n"
     ]
    }
   ],
   "source": [
    "from scipy.stats import norm\n",
    "\n",
    "# Left-tailed test => use norm.cdf\n",
    "# Right-tailed test => use  1 - norm.cdf\n",
    "\n",
    "p_val = 1 - norm.cdf(z_score, loc = 0, scale = 1)\n",
    "\n",
    "print(f'{p_val}')"
   ]
  },
  {
   "cell_type": "markdown",
   "metadata": {},
   "source": [
    "## Late Shipment"
   ]
  },
  {
   "cell_type": "code",
   "execution_count": 44,
   "metadata": {},
   "outputs": [],
   "source": [
    "late_shipments = pd.read_feather('datasets/late_shipments.feather')"
   ]
  },
  {
   "cell_type": "code",
   "execution_count": 45,
   "metadata": {},
   "outputs": [
    {
     "name": "stdout",
     "output_type": "stream",
     "text": [
      "0.061\n"
     ]
    }
   ],
   "source": [
    "# Print the late_shipments dataset\n",
    "late_shipments.head()\n",
    "\n",
    "# Calculate the proportion of late shipments\n",
    "late_prop_samp = (late_shipments['late'] == 'Yes').mean()\n",
    "\n",
    "# Print the results\n",
    "print(late_prop_samp)"
   ]
  },
  {
   "cell_type": "code",
   "execution_count": 46,
   "metadata": {},
   "outputs": [],
   "source": [
    "# Hypothesize that the proportion is 6%\n",
    "late_prop_hyp = 0.06\n",
    "\n",
    "late_shipments_boot_distn = []\n",
    "for i in range(5000):\n",
    "    late_shipments_boot_distn.append(\n",
    "        np.mean(\n",
    "            late_shipments.sample(frac = 1, replace = True)['late'] == 'Yes'\n",
    "        )\n",
    "    )"
   ]
  },
  {
   "cell_type": "code",
   "execution_count": 47,
   "metadata": {},
   "outputs": [
    {
     "name": "stdout",
     "output_type": "stream",
     "text": [
      "0.13376400038859998\n"
     ]
    }
   ],
   "source": [
    "# Hypothesize that the proportion is 6%\n",
    "late_prop_hyp = 0.06\n",
    "\n",
    "# Calculate the standard error\n",
    "std_error = np.std(late_shipments_boot_distn, ddof=1)\n",
    "\n",
    "# Find z-score of late_prop_samp\n",
    "z_score = (late_prop_samp - late_prop_hyp) / std_error\n",
    "\n",
    "# Print z_score\n",
    "print(z_score)"
   ]
  }
 ],
 "metadata": {
  "kernelspec": {
   "display_name": "base",
   "language": "python",
   "name": "python3"
  },
  "language_info": {
   "codemirror_mode": {
    "name": "ipython",
    "version": 3
   },
   "file_extension": ".py",
   "mimetype": "text/x-python",
   "name": "python",
   "nbconvert_exporter": "python",
   "pygments_lexer": "ipython3",
   "version": "3.11.8"
  }
 },
 "nbformat": 4,
 "nbformat_minor": 2
}
