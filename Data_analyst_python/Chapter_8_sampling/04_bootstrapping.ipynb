{
 "cells": [
  {
   "cell_type": "markdown",
   "metadata": {},
   "source": [
    "# Bootstrapping"
   ]
  },
  {
   "cell_type": "code",
   "execution_count": 2,
   "metadata": {},
   "outputs": [],
   "source": [
    "import pandas as pd\n",
    "import numpy as np\n",
    "import matplotlib.pyplot as plt\n",
    "import seaborn as sns\n",
    "\n",
    "coffee_rating  = pd.read_feather('datasets/coffee_ratings_full (1).feather')\n"
   ]
  },
  {
   "cell_type": "markdown",
   "metadata": {},
   "source": [
    "#### What is Bootstraping\n",
    "The opposite of sampling from a population\n",
    "\n",
    "*Sampling* going from a population to a smaller sample  \n",
    "\n",
    "*Bootstraping* building up a theoretical population from the sample\n",
    "\n",
    "Boostraping use case:  \n",
    "    - Develop understanding of sampling variability using a single sample\n",
    "\n",
    "\n",
    "##### Bootstrapping process\n",
    "1. Make a resample of the same size as the original sample\n",
    "2. Calculate the statistics of interest for this bootstrap sample\n",
    "3. Repeat steps 1 and 2 many times"
   ]
  },
  {
   "cell_type": "code",
   "execution_count": 6,
   "metadata": {},
   "outputs": [
    {
     "data": {
      "image/png": "[encoded data removed]",
      "text/plain": [
       "<Figure size 640x480 with 1 Axes>"
      ]
     },
     "metadata": {},
     "output_type": "display_data"
    }
   ],
   "source": [
    "from numpy import mean\n",
    "\n",
    "\n",
    "coffee_sample = coffee_rating.sample(1000)\n",
    "\n",
    "mean_flavors_1000 = []\n",
    "\n",
    "for i in range(1000):\n",
    "    mean_flavors_1000.append(\n",
    "        np.mean(coffee_sample.sample(frac = 1, replace = True)['flavor'])\n",
    "    )\n",
    "\n",
    "plt.hist(mean_flavors_1000, bins = 30)\n",
    "plt.show()"
   ]
  }
 ],
 "metadata": {
  "kernelspec": {
   "display_name": "base",
   "language": "python",
   "name": "python3"
  },
  "language_info": {
   "codemirror_mode": {
    "name": "ipython",
    "version": 3
   },
   "file_extension": ".py",
   "mimetype": "text/x-python",
   "name": "python",
   "nbconvert_exporter": "python",
   "pygments_lexer": "ipython3",
   "version": "3.11.8"
  }
 },
 "nbformat": 4,
 "nbformat_minor": 2
}
