{
 "cells": [
  {
   "cell_type": "markdown",
   "metadata": {},
   "source": [
    "# Confidence Intervals  \n",
    "\n"
   ]
  },
  {
   "cell_type": "code",
   "execution_count": 32,
   "metadata": {},
   "outputs": [],
   "source": [
    "import pandas as pd\n",
    "import numpy as np\n",
    "import matplotlib.pyplot as plt\n",
    "import seaborn as sns\n",
    "import scipy.stats as stats\n",
    "\n",
    "spotify_population = pd.read_feather('datasets/spotify_2000_2020.feather')\n",
    "\n",
    "spotify_sample = spotify_population.sample(1000, random_state=42)\n"
   ]
  },
  {
   "cell_type": "code",
   "execution_count": 37,
   "metadata": {},
   "outputs": [
    {
     "name": "stdout",
     "output_type": "stream",
     "text": [
      "Pop mean: 121.0799820914154\n",
      "Sample mena: 121.019241\n",
      "bootstrap mean: 121.057525524\n"
     ]
    },
    {
     "data": {
      "image/png": "[encoded data removed]",
      "text/plain": [
       "<Figure size 640x480 with 1 Axes>"
      ]
     },
     "metadata": {},
     "output_type": "display_data"
    }
   ],
   "source": [
    "mean_population = spotify_population['tempo'].mean()\n",
    "mean_sample = spotify_sample['tempo'].mean()\n",
    "\n",
    "\n",
    "# Create an empty list to store bootstrap means\n",
    "bootstrap_distribution = []\n",
    "\n",
    "# Generate 1000 bootstrap resamples\n",
    "for i in range(1000):\n",
    "    # For each iteration:\n",
    "    # 1. Sample with replacement (frac=1 means same size as original)\n",
    "    # 2. Calculate mean of 'tempo' column\n",
    "    # 3. Append to bootstrap_distribution list\n",
    "    bootstrap_mean = np.mean(spotify_sample['tempo'].sample(frac=1, replace=True))\n",
    "    bootstrap_distribution.append(bootstrap_mean)\n",
    "\n",
    "mean_bootstrap_d = np.mean(bootstrap_distribution)\n",
    "\n",
    "print(f'Pop mean: {mean_population}\\nSample mena: {mean_sample}\\nbootstrap mean: {mean_bootstrap_d}')\n",
    "\n",
    "# The bootstrap_distribution list now contains 1000 sample means\n",
    "# You can visualize it with a histogram\n",
    "plt.hist(bootstrap_distribution, bins=30)\n",
    "plt.title('Bootstrap Distribution of Mean Tempo')\n",
    "plt.xlabel('Mean Tempo')\n",
    "plt.ylabel('Frequency')\n",
    "plt.show()"
   ]
  },
  {
   "cell_type": "code",
   "execution_count": 42,
   "metadata": {},
   "outputs": [
    {
     "name": "stdout",
     "output_type": "stream",
     "text": [
      "119.220, 122.965\n"
     ]
    }
   ],
   "source": [
    "# Generate a 95% confidence interval using the quantile method\n",
    "lower_quant = np.quantile(bootstrap_distribution, 0.025)\n",
    "upper_quant = np.quantile(bootstrap_distribution, 0.975)\n",
    "\n",
    "# Print quantile method confidence interval\n",
    "print(f'{lower_quant:.3f}, {upper_quant:.3f}')"
   ]
  },
  {
   "cell_type": "code",
   "execution_count": 43,
   "metadata": {},
   "outputs": [
    {
     "name": "stdout",
     "output_type": "stream",
     "text": [
      "119.159, 122.956\n"
     ]
    }
   ],
   "source": [
    "from scipy.stats import norm\n",
    "# Find the mean and std dev of the bootstrap distribution\n",
    "point_estimate = mean_bootstrap_d\n",
    "standard_error = np.std(bootstrap_distribution, ddof = 1)\n",
    "\n",
    "# Find the lower limit of the confidence interval\n",
    "lower_se = norm.ppf(0.025, point_estimate, standard_error)\n",
    "\n",
    "# Find the upper limit of the confidence interval\n",
    "upper_se = norm.ppf(0.975, point_estimate, standard_error)\n",
    "\n",
    "# Print standard error method confidence interval\n",
    "print(f'{lower_se:.3f}, {upper_se:.3f}')"
   ]
  },
  {
   "cell_type": "code",
   "execution_count": 45,
   "metadata": {},
   "outputs": [
    {
     "name": "stdout",
     "output_type": "stream",
     "text": [
      "Intervalo de confianza (Error Estándar): (119.159, 122.956)\n"
     ]
    }
   ],
   "source": [
    "# Método de Error Estándar corregido\n",
    "from scipy.stats import norm\n",
    "import numpy as np\n",
    "\n",
    "# Calcular estimador puntual y error estándar\n",
    "point_estimate = mean_bootstrap_d\n",
    "standard_error = np.std(bootstrap_distribution, ddof=1)\n",
    "\n",
    "# Calcular z-score para 95% de confianza\n",
    "z_score = norm.ppf(0.975)  # 1.96 para 95% de confianza\n",
    "\n",
    "# Calcular límites del intervalo\n",
    "lower_se = point_estimate - (z_score * standard_error)\n",
    "upper_se = point_estimate + (z_score * standard_error)\n",
    "\n",
    "print(f\"Intervalo de confianza (Error Estándar): ({lower_se:.3f}, {upper_se:.3f})\")"
   ]
  }
 ],
 "metadata": {
  "kernelspec": {
   "display_name": "base",
   "language": "python",
   "name": "python3"
  },
  "language_info": {
   "codemirror_mode": {
    "name": "ipython",
    "version": 3
   },
   "file_extension": ".py",
   "mimetype": "text/x-python",
   "name": "python",
   "nbconvert_exporter": "python",
   "pygments_lexer": "ipython3",
   "version": "3.11.8"
  }
 },
 "nbformat": 4,
 "nbformat_minor": 2
}
