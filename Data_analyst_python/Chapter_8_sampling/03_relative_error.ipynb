{
 "cells": [
  {
   "cell_type": "markdown",
   "metadata": {},
   "source": [
    "##### The bigger the sample is, more accurate it will be"
   ]
  },
  {
   "cell_type": "code",
   "execution_count": 168,
   "metadata": {},
   "outputs": [],
   "source": [
    "import pandas as pd\n",
    "import numpy as np\n",
    "import matplotlib.pyplot as plt\n",
    "import seaborn as sns\n",
    "\n",
    "\n",
    "coffee_ratings = pd.read_feather('datasets/coffee_ratings_full (1).feather')"
   ]
  },
  {
   "cell_type": "code",
   "execution_count": 169,
   "metadata": {},
   "outputs": [
    {
     "data": {
      "text/plain": [
       "82.15120328849028"
      ]
     },
     "execution_count": 169,
     "metadata": {},
     "output_type": "execute_result"
    }
   ],
   "source": [
    "population_mean = coffee_ratings['total_cup_points'].mean()\n",
    "population_mean"
   ]
  },
  {
   "cell_type": "code",
   "execution_count": 170,
   "metadata": {},
   "outputs": [
    {
     "name": "stdout",
     "output_type": "stream",
     "text": [
      "82.152\n"
     ]
    }
   ],
   "source": [
    "sample_size = 300\n",
    "\n",
    "# Point estimate\n",
    "sample_mean = coffee_ratings['total_cup_points'].sample(sample_size).mean()\n",
    "print(sample_mean)"
   ]
  },
  {
   "cell_type": "markdown",
   "metadata": {},
   "source": [
    "##### Relative error as percentage"
   ]
  },
  {
   "cell_type": "code",
   "execution_count": 171,
   "metadata": {},
   "outputs": [
    {
     "data": {
      "text/plain": [
       "0.0009698111261058379"
      ]
     },
     "execution_count": 171,
     "metadata": {},
     "output_type": "execute_result"
    }
   ],
   "source": [
    "\n",
    "rel_error_pct = 100 * abs(population_mean - sample_mean) / population_mean\n",
    "rel_error_pct"
   ]
  },
  {
   "cell_type": "code",
   "execution_count": 172,
   "metadata": {},
   "outputs": [
    {
     "data": {
      "text/plain": [
       "0.04017383455039627"
      ]
     },
     "execution_count": 172,
     "metadata": {},
     "output_type": "execute_result"
    }
   ],
   "source": [
    "sample_size_2 = 1000\n",
    "\n",
    "# sample 2\n",
    "sample_mean_2 = coffee_ratings['total_cup_points'].sample(sample_size_2).mean()\n",
    "# rel error 2\n",
    "\n",
    "rel_error_pct_2 = 100 * abs(population_mean - sample_mean_2) / population_mean\n",
    "rel_error_pct_2"
   ]
  },
  {
   "cell_type": "code",
   "execution_count": 173,
   "metadata": {},
   "outputs": [
    {
     "name": "stdout",
     "output_type": "stream",
     "text": [
      "Population mean: 82.15120328849028\n",
      "Sample 300 mean: 82.152,\n",
      "Sample 1000 mean: 82.1182\n",
      "\n",
      "Relative error for sample 300: 0.001%\n",
      "Relative error for sample 1000: 0.040%\n"
     ]
    }
   ],
   "source": [
    "print(f'Population mean: {population_mean}\\nSample 300 mean: {sample_mean},\\nSample 1000 mean: {sample_mean_2}\\n')\n",
    "print(f'Relative error for sample 300: {rel_error_pct:.3f}%\\nRelative error for sample 1000: {rel_error_pct_2:.3f}%')"
   ]
  },
  {
   "cell_type": "markdown",
   "metadata": {},
   "source": [
    "#### relative error decreases as sample size increases\n",
    "- Sample = 300\n",
    "  - Rel. error = 0.11\n",
    "- Sample = 1000\n",
    "  - Rel. error = 0.08"
   ]
  },
  {
   "cell_type": "markdown",
   "metadata": {},
   "source": [
    "## Sampling Distribution"
   ]
  },
  {
   "cell_type": "code",
   "execution_count": 174,
   "metadata": {},
   "outputs": [],
   "source": [
    "mean_cup_points_1000 = []\n",
    "\n",
    "for i in range (1000):\n",
    "    mean_cup_points_1000.append(coffee_ratings.sample(n = 30)['total_cup_points'].mean())"
   ]
  }
 ],
 "metadata": {
  "kernelspec": {
   "display_name": "base",
   "language": "python",
   "name": "python3"
  },
  "language_info": {
   "codemirror_mode": {
    "name": "ipython",
    "version": 3
   },
   "file_extension": ".py",
   "mimetype": "text/x-python",
   "name": "python",
   "nbconvert_exporter": "python",
   "pygments_lexer": "ipython3",
   "version": "3.11.8"
  }
 },
 "nbformat": 4,
 "nbformat_minor": 2
}
