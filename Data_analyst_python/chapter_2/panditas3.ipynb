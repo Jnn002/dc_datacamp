{
 "cells": [
  {
   "cell_type": "code",
   "execution_count": 9,
   "metadata": {},
   "outputs": [
    {
     "name": "stdout",
     "output_type": "stream",
     "text": [
      "     Country     Capital  Area  Population\n",
      "USA      USA  Washington  9834         331\n",
      "CAN   Canada      Ottawa  9985          37\n",
      "GER  Germany      Berlin   357          83\n",
      "UK        UK      London    94          66\n",
      "FRA   France       Paris   551          65\n"
     ]
    }
   ],
   "source": [
    "# Filtering pandas DataFrame\n",
    "import pandas as pd\n",
    "import numpy as np\n",
    "\n",
    "world = {\n",
    "    'Country': ['USA', 'Canada', 'Germany', 'UK', 'France'],\n",
    "    'Capital': ['Washington', 'Ottawa', 'Berlin', 'London', 'Paris'],\n",
    "    'Area': [9834, 9985, 357, 94, 551],\n",
    "    'Population': [331, 37, 83, 66, 65]\n",
    "}\n",
    "\n",
    "brics = pd.DataFrame(world)\n",
    "abreviaturas = ['USA', 'CAN', 'GER', 'UK', 'FRA']\n",
    "brics.index = abreviaturas\n",
    "\n",
    "print(brics)"
   ]
  },
  {
   "cell_type": "code",
   "execution_count": 11,
   "metadata": {},
   "outputs": [
    {
     "name": "stdout",
     "output_type": "stream",
     "text": [
      "    Country     Capital  Area  Population\n",
      "USA     USA  Washington  9834         331\n",
      "CAN  Canada      Ottawa  9985          37\n",
      "FRA  France       Paris   551          65 \n",
      "\n",
      "     Country     Capital  Area  Population\n",
      "USA      USA  Washington  9834         331\n",
      "GER  Germany      Berlin   357          83\n",
      "UK        UK      London    94          66 \n",
      "\n",
      "    Country     Capital  Area  Population\n",
      "USA     USA  Washington  9834         331 \n",
      "\n"
     ]
    }
   ],
   "source": [
    "# Filtering DataFrame\n",
    "\n",
    "# Countries with more than 500 square kilometers\n",
    "print(brics[brics['Area'] > 500], '\\n')\n",
    "\n",
    "# Countries with more than 65 million people\n",
    "print(brics[brics['Population'] > 65], '\\n')\n",
    "\n",
    "# Countries with more than 65 million people and more than 500 square kilometers\n",
    "print(brics[np.logical_and(brics['Population'] > 70, brics['Area'] > 1000)], '\\n')"
   ]
  },
  {
   "cell_type": "code",
   "execution_count": 12,
   "metadata": {},
   "outputs": [
    {
     "name": "stdout",
     "output_type": "stream",
     "text": [
      "Country UK\n",
      "Capital London\n",
      "Area 94\n",
      "Population 66\n",
      "1\n",
      "2\n",
      "3\n",
      "4\n",
      "5\n",
      "uno\n",
      "dos\n",
      "tres\n",
      "cuatro\n",
      "cinco\n"
     ]
    }
   ],
   "source": [
    "# loops, normal dictionaries and numpy arrays\n",
    "\n",
    "for key, value in world.items():\n",
    "    print(key, value[3]) #value is a list, but we can access its elements by index\n",
    "\n",
    "\n",
    "enteros = np.array([1, 2, 3, 4, 5])\n",
    "textos = np.array(['uno', 'dos', 'tres', 'cuatro', 'cinco'])\n",
    "definicion = np.array([enteros, textos])\n",
    "\n",
    "# To iterate over a numpy array, we can use the nditer() function\n",
    "for val in np.nditer(definicion):\n",
    "    print(val)"
   ]
  },
  {
   "cell_type": "code",
   "execution_count": 13,
   "metadata": {},
   "outputs": [
    {
     "name": "stdout",
     "output_type": "stream",
     "text": [
      "     Country     Capital  Area  Population  name\n",
      "USA      USA  Washington  9834         331   3.0\n",
      "CAN   Canada      Ottawa  9985          37   6.0\n",
      "GER  Germany      Berlin   357          83   7.0\n",
      "UK        UK      London    94          66   2.0\n",
      "FRA   France       Paris   551          65   6.0 \n",
      "\n",
      "     Country     Capital  Area  Population  name\n",
      "USA      USA  Washington  9834         331     3\n",
      "CAN   Canada      Ottawa  9985          37     6\n",
      "GER  Germany      Berlin   357          83     7\n",
      "UK        UK      London    94          66     2\n",
      "FRA   France       Paris   551          65     6 \n",
      "\n",
      "USA        USA\n",
      "CAN     CANADA\n",
      "GER    GERMANY\n",
      "UK          UK\n",
      "FRA     FRANCE\n",
      "Name: Country, dtype: object\n"
     ]
    }
   ],
   "source": [
    "# Iterando sobre dataframes para agrear columnas\n",
    "\n",
    "#* ADD A COLUMN THAT CONTAINS THE LENGTH OF THE COUNTRY NAMES\n",
    "for lab, row in brics.iterrows():\n",
    "    brics.loc[lab, 'name'] = len(row['Country'].upper())  \n",
    "print(brics, '\\n')\n",
    "\n",
    "# We are using the apply() method to apply a function to each row of the DataFrame\n",
    "brics['name'] = brics['Country'].apply(len)\n",
    "print(brics, '\\n')\n",
    "\n",
    "#* ADD A COLUMN THAT CONTAINS THE COUNTRY NAMES IN UPPERCASE\n",
    "new_brics = brics['COUNTRY'] = brics['Country'].apply(str.upper)\n",
    "print(new_brics)\n"
   ]
  }
 ],
 "metadata": {
  "kernelspec": {
   "display_name": "base",
   "language": "python",
   "name": "python3"
  },
  "language_info": {
   "codemirror_mode": {
    "name": "ipython",
    "version": 3
   },
   "file_extension": ".py",
   "mimetype": "text/x-python",
   "name": "python",
   "nbconvert_exporter": "python",
   "pygments_lexer": "ipython3",
   "version": "3.11.8"
  }
 },
 "nbformat": 4,
 "nbformat_minor": 2
}
