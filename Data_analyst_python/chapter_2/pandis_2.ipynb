{
 "cells": [
  {
   "cell_type": "code",
   "execution_count": 7,
   "metadata": {},
   "outputs": [
    {
     "name": "stdout",
     "output_type": "stream",
     "text": [
      "     Country     Capital  Area  Population\n",
      "USA      USA  Washington  9834         331\n",
      "CAN   Canada      Ottawa  9985          37\n",
      "GER  Germany      Berlin   357          83\n",
      "UK        UK      London    94          66\n",
      "FRA   France       Paris   551          65\n"
     ]
    }
   ],
   "source": [
    "import pandas as pd\n",
    "import numpy as np\n",
    "\n",
    "# Dictionary world\n",
    "\n",
    "world = {\n",
    "    'Country': ['USA', 'Canada', 'Germany', 'UK', 'France'],\n",
    "    'Capital': ['Washington', 'Ottawa', 'Berlin', 'London', 'Paris'],\n",
    "    'Area': [9834, 9985, 357, 94, 551],\n",
    "    'Population': [331, 37, 83, 66, 65]\n",
    "}\n",
    "\n",
    "brics = pd.DataFrame(world)\n",
    "abreviaturas = ['USA', 'CAN', 'GER', 'UK', 'FRA']\n",
    "brics.index = abreviaturas\n",
    "\n",
    "print(brics)\n"
   ]
  },
  {
   "cell_type": "code",
   "execution_count": 8,
   "metadata": {},
   "outputs": [
    {
     "name": "stdout",
     "output_type": "stream",
     "text": [
      "     Country     Capital\n",
      "USA      USA  Washington\n",
      "GER  Germany      Berlin\n"
     ]
    }
   ],
   "source": [
    "# loc nos permite seleccionar filas y columnas por etiquetas\n",
    "loc_brics =brics.loc[\n",
    "    ['USA', 'GER'],\n",
    "    ['Country', 'Capital']\n",
    "]\n",
    "print(loc_brics)"
   ]
  },
  {
   "cell_type": "code",
   "execution_count": 9,
   "metadata": {},
   "outputs": [
    {
     "name": "stdout",
     "output_type": "stream",
     "text": [
      "     Country Capital\n",
      "CAN   Canada  Ottawa\n",
      "GER  Germany  Berlin\n",
      "UK        UK  London\n"
     ]
    }
   ],
   "source": [
    "# iloc nos permite seleccionar filas y columnas por indices\n",
    "iloc_brics = brics.iloc [\n",
    "    [1, 2, 3], # filas\n",
    "    [0, 1]   # columnas\n",
    "]\n",
    "print(iloc_brics)"
   ]
  },
  {
   "cell_type": "code",
   "execution_count": 10,
   "metadata": {},
   "outputs": [],
   "source": [
    "# Comparison operators\n",
    "\n",
    "# less than   <\n",
    "# greater than >\n",
    "# less than or equal <=\n",
    "# greater than or equal >=\n",
    "# equal ==\n",
    "# not equal !="
   ]
  },
  {
   "cell_type": "code",
   "execution_count": 11,
   "metadata": {},
   "outputs": [
    {
     "name": "stdout",
     "output_type": "stream",
     "text": [
      "USA     True\n",
      "CAN     True\n",
      "GER     True\n",
      "UK     False\n",
      "FRA     True\n",
      "Name: Area, dtype: bool \n",
      "\n",
      "USA     True\n",
      "CAN    False\n",
      "GER     True\n",
      "UK     False\n",
      "FRA     True\n",
      "dtype: bool \n",
      "\n",
      "      Area\n",
      "USA   True\n",
      "CAN   True\n",
      "GER  False\n",
      "UK    True\n",
      "FRA  False \n",
      "\n"
     ]
    }
   ],
   "source": [
    "# Con numpy no podemos usar operadores logicos como and, or, not direcatmente\n",
    "# pero podemos usar funciones de numpy como np.logical_and(), np.logical_or(), np.logical_not()\n",
    "\n",
    "print(brics['Area'] > 100, '\\n')\n",
    "# Uso de np.logical_and()\n",
    "print(np.logical_and(brics['Area'] > 100, brics['Population'] > 50), '\\n')\n",
    "\n",
    "# uso de no.logical_or()\n",
    "print(np.logical_or(brics[['Area']] < 100, brics[['Area']] > 1000), '\\n')"
   ]
  }
 ],
 "metadata": {
  "kernelspec": {
   "display_name": "base",
   "language": "python",
   "name": "python3"
  },
  "language_info": {
   "codemirror_mode": {
    "name": "ipython",
    "version": 3
   },
   "file_extension": ".py",
   "mimetype": "text/x-python",
   "name": "python",
   "nbconvert_exporter": "python",
   "pygments_lexer": "ipython3",
   "version": "3.11.8"
  }
 },
 "nbformat": 4,
 "nbformat_minor": 2
}
