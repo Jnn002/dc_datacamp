{
 "cells": [
  {
   "cell_type": "code",
   "execution_count": 1,
   "metadata": {},
   "outputs": [
    {
     "name": "stdout",
     "output_type": "stream",
     "text": [
      "     Country     Capital  Area  Population\n",
      "USA      USA  Washington  9834         331\n",
      "CAN   Canada      Ottawa  9985          37\n",
      "GER  Germany      Berlin   357          83\n",
      "UK        UK      London    94          66\n",
      "FRA   France       Paris   551          65\n"
     ]
    }
   ],
   "source": [
    "import pandas as pd\n",
    "import pandas as pd\n",
    "\n",
    "# Dictionary world\n",
    "\n",
    "world = {\n",
    "    'Country': ['USA', 'Canada', 'Germany', 'UK', 'France'],\n",
    "    'Capital': ['Washington', 'Ottawa', 'Berlin', 'London', 'Paris'],\n",
    "    'Area': [9834, 9985, 357, 94, 551],\n",
    "    'Population': [331, 37, 83, 66, 65]\n",
    "}\n",
    "\n",
    "brics = pd.DataFrame(world)\n",
    "abreviaturas = ['USA', 'CAN', 'GER', 'UK', 'FRA']\n",
    "brics.index = abreviaturas\n",
    "\n",
    "print(brics)\n"
   ]
  },
  {
   "cell_type": "code",
   "execution_count": 5,
   "metadata": {},
   "outputs": [
    {
     "name": "stdout",
     "output_type": "stream",
     "text": [
      "     Country     Capital\n",
      "USA      USA  Washington\n",
      "GER  Germany      Berlin\n"
     ]
    }
   ],
   "source": [
    "# loc nos permite seleccionar filas y columnas por etiquetas\n",
    "loc_brics =brics.loc[\n",
    "    ['USA', 'GER'],\n",
    "    ['Country', 'Capital']\n",
    "]\n",
    "print(loc_brics)"
   ]
  },
  {
   "cell_type": "code",
   "execution_count": 8,
   "metadata": {},
   "outputs": [
    {
     "name": "stdout",
     "output_type": "stream",
     "text": [
      "     Country Capital\n",
      "CAN   Canada  Ottawa\n",
      "GER  Germany  Berlin\n",
      "UK        UK  London\n"
     ]
    }
   ],
   "source": [
    "# iloc nos permite seleccionar filas y columnas por indices\n",
    "iloc_brics = brics.iloc [\n",
    "    [1, 2, 3], # filas\n",
    "    [0, 1]   # columnas\n",
    "]\n",
    "print(iloc_brics)"
   ]
  }
 ],
 "metadata": {
  "kernelspec": {
   "display_name": "base",
   "language": "python",
   "name": "python3"
  },
  "language_info": {
   "codemirror_mode": {
    "name": "ipython",
    "version": 3
   },
   "file_extension": ".py",
   "mimetype": "text/x-python",
   "name": "python",
   "nbconvert_exporter": "python",
   "pygments_lexer": "ipython3",
   "version": "3.11.8"
  }
 },
 "nbformat": 4,
 "nbformat_minor": 2
}
