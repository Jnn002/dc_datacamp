{
 "cells": [
  {
   "cell_type": "markdown",
   "metadata": {},
   "source": [
    "### Basic Pandas Methods\n",
    "1. **head()** - Used to display the first *n* rows of a dataframe.\n",
    "2. **tail()** - Used to display the last *n* rows of a dataframe.\n",
    "3. **info()** - Used to display the summary of a dataframe.\n",
    "4. **describe()** - Used to display the statistical summary of a dataframe.\n",
    "5. **shape** - Used to display the number of rows and columns in a dataframe.\n",
    "6. **columns** - Used to display the column names of a dataframe.\n",
    "7. **index** - Used to display the index of a dataframe.\n",
    "8. **values** - Used to display the values of a dataframe.\n",
    "9. **dtypes** - Used to display the data types of a dataframe.\n",
    "\n",
    "### Useful Pandas Methods for Transforming Dataframes\n",
    "1. **map()** - Used to substitute each value in a series with another value.\n",
    "2. **apply()** - Used to apply a function to each element in a series.\n",
    "3. **applymap()** - Used to apply a function to each element in a dataframe.\n",
    "4. **groupby()** - Used to group dataframes using a column.\n",
    "5. **pivot_table()** - Used to create a pivot table.\n",
    "6. **melt()** - Used to transform a dataframe from wide to long format.\n",
    "7. **stack()** - Used to transform a dataframe from wide to long format.\n",
    "8. **unstack()** - Used to transform a dataframe from long to wide format.\n"
   ]
  },
  {
   "cell_type": "code",
   "execution_count": 18,
   "metadata": {},
   "outputs": [
    {
     "name": "stdout",
     "output_type": "stream",
     "text": [
      "      Name  Age             Breed  Color  weight  height\n",
      "0    Buddy    3  Golden Retriever   Gold      29      59\n",
      "1    Bella    5          Labrador  Black      10      35\n",
      "2  Charlie    2            Poodle  White      10      20\n",
      "3      Max    4           Bulldog  Brown      22      20\n",
      "4     Lucy    6            Beagle  Black      25      35\n",
      "5    Daisy    1               Pug    Tan      15      22\n",
      "6    Rocky    7             Boxer  Brown      15      27\n",
      "7    Molly    8         Dachshund  White      15      32\n",
      "8     Duke    3          Shih Tzu  White      20      44\n",
      "9     Luna    2         Chihuahua    Tan      10      60 \n",
      "\n",
      "Empty DataFrame\n",
      "Columns: [Name, Age, Breed, Color, weight, height]\n",
      "Index: [] \n",
      "\n",
      "Empty DataFrame\n",
      "Columns: [Name, Age, Breed, Color, weight, height]\n",
      "Index: [] \n",
      "\n",
      "    Name  Age     Breed  Color  weight  height\n",
      "1  Bella    5  Labrador  Black      10      35\n",
      "3    Max    4   Bulldog  Brown      22      20\n",
      "4   Lucy    6    Beagle  Black      25      35\n",
      "6  Rocky    7     Boxer  Brown      15      27\n"
     ]
    }
   ],
   "source": [
    "# sorting with pandas\n",
    "import pandas as pd\n",
    "\n",
    "# create a dataframe with sample data about dogs\n",
    "dogs_df = pd.DataFrame({\n",
    "    'Name': ['Buddy', 'Bella', 'Charlie', 'Max', 'Lucy', 'Daisy', 'Rocky', 'Molly', 'Duke', 'Luna'],\n",
    "    'Age': [3, 5, 2, 4, 6, 1, 7, 8, 3, 2],\n",
    "    'Breed': ['Golden Retriever', 'Labrador', 'Poodle', 'Bulldog', 'Beagle', 'Pug', 'Boxer', 'Dachshund', 'Shih Tzu', 'Chihuahua'],\n",
    "    'Color': ['Gold', 'Black', 'White', 'Brown', 'Black', 'Tan', 'Brown', 'White', 'White', 'Tan'],\n",
    "    'weight': [29, 10, 10, 22, 25, 15, 15, 15, 20, 10],\n",
    "    'height': [59, 35, 20, 20, 35, 22, 27, 32, 44, 60]\n",
    "})\n",
    "\n",
    "dogs_df.sort_values(['Age', 'Name'], ascending=[True, False])\n",
    "print(dogs_df, '\\n')\n",
    "\n",
    "dogs = dogs_df[(dogs_df['Age'] > 3) & (dogs_df['weight'] > 40)]\n",
    "print(dogs, '\\n')\n",
    "\n",
    "# We can also use the query method to filter the data\n",
    "mayor_que = dogs_df['Age'] > 3\n",
    "peso = dogs_df['weight'] > 40\n",
    "print(dogs_df[mayor_que & peso], '\\n')\n",
    "\n",
    "\n",
    "# Subsetting with isin()\n",
    "is_black_or_brown = dogs_df['Color'].isin(['Black', 'Brown'])\n",
    "print(dogs_df[is_black_or_brown])\n"
   ]
  },
  {
   "cell_type": "code",
   "execution_count": 19,
   "metadata": {},
   "outputs": [
    {
     "name": "stdout",
     "output_type": "stream",
     "text": [
      "      Name  Age             Breed  Color  weight  height  height_m         bmi\n",
      "0    Buddy    3  Golden Retriever   Gold      29      59      0.59   83.309394\n",
      "1    Bella    5          Labrador  Black      10      35      0.35   81.632653\n",
      "2  Charlie    2            Poodle  White      10      20      0.20  250.000000\n",
      "3      Max    4           Bulldog  Brown      22      20      0.20  550.000000\n",
      "4     Lucy    6            Beagle  Black      25      35      0.35  204.081633\n"
     ]
    }
   ],
   "source": [
    "# ADD NEW COLUMNS TO OUR DATAFRAME\n",
    "\n",
    "# calculate height in cm\n",
    "dogs_df['height_m'] = dogs_df['height'] / 100\n",
    "\n",
    "\n",
    "# calculate the BMI for each dog\n",
    "dogs_df['bmi'] = dogs_df['weight'] / dogs_df['height_m'] ** 2\n",
    "print(dogs_df.head())"
   ]
  }
 ],
 "metadata": {
  "kernelspec": {
   "display_name": "base",
   "language": "python",
   "name": "python3"
  },
  "language_info": {
   "codemirror_mode": {
    "name": "ipython",
    "version": 3
   },
   "file_extension": ".py",
   "mimetype": "text/x-python",
   "name": "python",
   "nbconvert_exporter": "python",
   "pygments_lexer": "ipython3",
   "version": "3.11.8"
  }
 },
 "nbformat": 4,
 "nbformat_minor": 2
}
