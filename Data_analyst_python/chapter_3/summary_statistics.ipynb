{
 "cells": [
  {
   "cell_type": "markdown",
   "metadata": {},
   "source": [
    "## Useful Functions for Summarizing Data\n",
    "\n",
    "- **describe()**: Provides summary statistics for each column\n",
    "- **mean()**: Returns the mean of all columns\n",
    "- **corr()**: Returns the correlation between columns in a DataFrame\n",
    "- **count()**: Returns the number of non-null values in each DataFrame column\n",
    "- **max()**: Returns the highest value in each column\n",
    "- **min()**: Returns the lowest value in each column\n",
    "- **median()**: Returns the median of each column\n",
    "- **std()**: Returns the standard deviation\n",
    "- **groupby()**: Splits data into groups\n",
    "- **sum()**: Returns the sum of each column"
   ]
  },
  {
   "cell_type": "code",
   "execution_count": 5,
   "metadata": {},
   "outputs": [
    {
     "data": {
      "text/html": [
       "<div>\n",
       "<style scoped>\n",
       "    .dataframe tbody tr th:only-of-type {\n",
       "        vertical-align: middle;\n",
       "    }\n",
       "\n",
       "    .dataframe tbody tr th {\n",
       "        vertical-align: top;\n",
       "    }\n",
       "\n",
       "    .dataframe thead th {\n",
       "        text-align: right;\n",
       "    }\n",
       "</style>\n",
       "<table border=\"1\" class=\"dataframe\">\n",
       "  <thead>\n",
       "    <tr style=\"text-align: right;\">\n",
       "      <th></th>\n",
       "      <th>Age</th>\n",
       "    </tr>\n",
       "  </thead>\n",
       "  <tbody>\n",
       "    <tr>\n",
       "      <th>0</th>\n",
       "      <td>3</td>\n",
       "    </tr>\n",
       "    <tr>\n",
       "      <th>1</th>\n",
       "      <td>8</td>\n",
       "    </tr>\n",
       "    <tr>\n",
       "      <th>2</th>\n",
       "      <td>10</td>\n",
       "    </tr>\n",
       "    <tr>\n",
       "      <th>3</th>\n",
       "      <td>14</td>\n",
       "    </tr>\n",
       "    <tr>\n",
       "      <th>4</th>\n",
       "      <td>20</td>\n",
       "    </tr>\n",
       "    <tr>\n",
       "      <th>5</th>\n",
       "      <td>21</td>\n",
       "    </tr>\n",
       "    <tr>\n",
       "      <th>6</th>\n",
       "      <td>28</td>\n",
       "    </tr>\n",
       "    <tr>\n",
       "      <th>7</th>\n",
       "      <td>31</td>\n",
       "    </tr>\n",
       "    <tr>\n",
       "      <th>8</th>\n",
       "      <td>36</td>\n",
       "    </tr>\n",
       "    <tr>\n",
       "      <th>9</th>\n",
       "      <td>38</td>\n",
       "    </tr>\n",
       "  </tbody>\n",
       "</table>\n",
       "</div>"
      ],
      "text/plain": [
       "   Age\n",
       "0    3\n",
       "1    8\n",
       "2   10\n",
       "3   14\n",
       "4   20\n",
       "5   21\n",
       "6   28\n",
       "7   31\n",
       "8   36\n",
       "9   38"
      ]
     },
     "execution_count": 5,
     "metadata": {},
     "output_type": "execute_result"
    }
   ],
   "source": [
    "# Summarizing numercial data with pandas\n",
    "import pandas as pd\n",
    "\n",
    "# Create a dictionary with data about dogs\n",
    "data = {\n",
    "    'Name': ['Bella', 'Lucy', 'Max', 'Charlie', 'Buddy', 'Rocky', 'Molly', 'Daisy', 'Bailey', 'Lola'],\n",
    "    'Age': [3, 5, 2, 4, 6, 1, 7, 3, 5, 2],\n",
    "    'Breed': ['Labrador', 'Poodle', 'Bulldog', 'Beagle', 'Pug', 'Boxer', 'Dachshund', 'Shih Tzu', 'Husky', 'Chihuahua'],\n",
    "    'Weight': [22, 18, 25, 20, 10, 30, 12, 8, 28, 6]\n",
    "}\n",
    "# Create a DataFrame from the dictionary\n",
    "df_dogs = pd.DataFrame(data)\n",
    "\n",
    "df_dogs[['Age']].cumsum()"
   ]
  },
  {
   "cell_type": "markdown",
   "metadata": {},
   "source": []
  },
  {
   "cell_type": "code",
   "execution_count": 6,
   "metadata": {},
   "outputs": [
    {
     "data": {
      "text/plain": [
       "2.75"
      ]
     },
     "execution_count": 6,
     "metadata": {},
     "output_type": "execute_result"
    }
   ],
   "source": [
    "def iqr(column):\n",
    "    return column.quantile(0.75) - column.quantile(0.25)\n",
    "\n",
    "# Calculate the interquartile range for the 'Age' column\n",
    "df_dogs['Age'].agg(iqr)"
   ]
  }
 ],
 "metadata": {
  "kernelspec": {
   "display_name": "base",
   "language": "python",
   "name": "python3"
  },
  "language_info": {
   "codemirror_mode": {
    "name": "ipython",
    "version": 3
   },
   "file_extension": ".py",
   "mimetype": "text/x-python",
   "name": "python",
   "nbconvert_exporter": "python",
   "pygments_lexer": "ipython3",
   "version": "3.11.8"
  }
 },
 "nbformat": 4,
 "nbformat_minor": 2
}
