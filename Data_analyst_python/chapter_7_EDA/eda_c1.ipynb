{
 "cells": [
  {
   "cell_type": "code",
   "execution_count": null,
   "metadata": {},
   "outputs": [],
   "source": [
    "import pandas as pd\n",
    "import numpy as np\n",
    "import matplotlib.pyplot as plt\n",
    "import seaborn as sns\n",
    "\n",
    "unemployment =pd.read_csv('datasets/clean_unemployment.csv')"
   ]
  },
  {
   "cell_type": "code",
   "execution_count": 17,
   "metadata": {},
   "outputs": [
    {
     "name": "stdout",
     "output_type": "stream",
     "text": [
      "<class 'pandas.core.frame.DataFrame'>\n",
      "RangeIndex: 182 entries, 0 to 181\n",
      "Data columns (total 15 columns):\n",
      " #   Column        Non-Null Count  Dtype  \n",
      "---  ------        --------------  -----  \n",
      " 0   country_code  182 non-null    object \n",
      " 1   country_name  182 non-null    object \n",
      " 2   continent     177 non-null    object \n",
      " 3   2010          182 non-null    float64\n",
      " 4   2011          182 non-null    float64\n",
      " 5   2012          182 non-null    float64\n",
      " 6   2013          182 non-null    float64\n",
      " 7   2014          182 non-null    float64\n",
      " 8   2015          182 non-null    float64\n",
      " 9   2016          182 non-null    float64\n",
      " 10  2017          182 non-null    float64\n",
      " 11  2018          182 non-null    float64\n",
      " 12  2019          182 non-null    float64\n",
      " 13  2020          182 non-null    float64\n",
      " 14  2021          182 non-null    float64\n",
      "dtypes: float64(12), object(3)\n",
      "memory usage: 21.5+ KB\n"
     ]
    }
   ],
   "source": [
    "unemployment.info()"
   ]
  },
  {
   "cell_type": "code",
   "execution_count": 18,
   "metadata": {},
   "outputs": [
    {
     "data": {
      "text/plain": [
       "continent\n",
       "Africa           53\n",
       "Asia             47\n",
       "Europe           39\n",
       "North America    18\n",
       "South America    12\n",
       "Oceania           8\n",
       "Name: count, dtype: int64"
      ]
     },
     "execution_count": 18,
     "metadata": {},
     "output_type": "execute_result"
    }
   ],
   "source": [
    "unemployment.value_counts('continent')"
   ]
  },
  {
   "cell_type": "code",
   "execution_count": 21,
   "metadata": {},
   "outputs": [
    {
     "name": "stderr",
     "output_type": "stream",
     "text": [
      "c:\\Users\\codlw\\anaconda3\\Lib\\site-packages\\seaborn\\_oldcore.py:1119: FutureWarning: use_inf_as_na option is deprecated and will be removed in a future version. Convert inf values to NaN before operating instead.\n",
      "  with pd.option_context('mode.use_inf_as_na', True):\n"
     ]
    },
    {
     "data": {
      "image/png": "[encoded data removed]",
      "text/plain": [
       "<Figure size 640x480 with 1 Axes>"
      ]
     },
     "metadata": {},
     "output_type": "display_data"
    }
   ],
   "source": [
    "pd.option_context('mode.use_inf_as_na', True)\n",
    "sns.histplot(data = unemployment, x = '2011', binwidth= 1)\n",
    "plt.show()"
   ]
  },
  {
   "cell_type": "markdown",
   "metadata": {},
   "source": [
    "#### Data Validation"
   ]
  },
  {
   "cell_type": "code",
   "execution_count": 26,
   "metadata": {},
   "outputs": [
    {
     "data": {
      "text/html": [
       "<div>\n",
       "<style scoped>\n",
       "    .dataframe tbody tr th:only-of-type {\n",
       "        vertical-align: middle;\n",
       "    }\n",
       "\n",
       "    .dataframe tbody tr th {\n",
       "        vertical-align: top;\n",
       "    }\n",
       "\n",
       "    .dataframe thead th {\n",
       "        text-align: right;\n",
       "    }\n",
       "</style>\n",
       "<table border=\"1\" class=\"dataframe\">\n",
       "  <thead>\n",
       "    <tr style=\"text-align: right;\">\n",
       "      <th></th>\n",
       "      <th>country_code</th>\n",
       "      <th>country_name</th>\n",
       "      <th>continent</th>\n",
       "      <th>2010</th>\n",
       "      <th>2011</th>\n",
       "      <th>2012</th>\n",
       "      <th>2013</th>\n",
       "      <th>2014</th>\n",
       "      <th>2015</th>\n",
       "      <th>2016</th>\n",
       "      <th>2017</th>\n",
       "      <th>2018</th>\n",
       "      <th>2019</th>\n",
       "      <th>2020</th>\n",
       "      <th>2021</th>\n",
       "    </tr>\n",
       "  </thead>\n",
       "  <tbody>\n",
       "    <tr>\n",
       "      <th>0</th>\n",
       "      <td>AFG</td>\n",
       "      <td>Afghanistan</td>\n",
       "      <td>Asia</td>\n",
       "      <td>11.35</td>\n",
       "      <td>11.05</td>\n",
       "      <td>11.34</td>\n",
       "      <td>11.19</td>\n",
       "      <td>11.14</td>\n",
       "      <td>11.13</td>\n",
       "      <td>11.16</td>\n",
       "      <td>11.18</td>\n",
       "      <td>11.15</td>\n",
       "      <td>11.22</td>\n",
       "      <td>11.71</td>\n",
       "      <td>13.28</td>\n",
       "    </tr>\n",
       "    <tr>\n",
       "      <th>1</th>\n",
       "      <td>AGO</td>\n",
       "      <td>Angola</td>\n",
       "      <td>Africa</td>\n",
       "      <td>9.43</td>\n",
       "      <td>7.36</td>\n",
       "      <td>7.35</td>\n",
       "      <td>7.37</td>\n",
       "      <td>7.37</td>\n",
       "      <td>7.39</td>\n",
       "      <td>7.41</td>\n",
       "      <td>7.41</td>\n",
       "      <td>7.42</td>\n",
       "      <td>7.42</td>\n",
       "      <td>8.33</td>\n",
       "      <td>8.53</td>\n",
       "    </tr>\n",
       "    <tr>\n",
       "      <th>2</th>\n",
       "      <td>ALB</td>\n",
       "      <td>Albania</td>\n",
       "      <td>Europe</td>\n",
       "      <td>14.09</td>\n",
       "      <td>13.48</td>\n",
       "      <td>13.38</td>\n",
       "      <td>15.87</td>\n",
       "      <td>18.05</td>\n",
       "      <td>17.19</td>\n",
       "      <td>15.42</td>\n",
       "      <td>13.62</td>\n",
       "      <td>12.30</td>\n",
       "      <td>11.47</td>\n",
       "      <td>13.33</td>\n",
       "      <td>11.82</td>\n",
       "    </tr>\n",
       "    <tr>\n",
       "      <th>3</th>\n",
       "      <td>ARE</td>\n",
       "      <td>United Arab Emirates</td>\n",
       "      <td>Asia</td>\n",
       "      <td>2.48</td>\n",
       "      <td>2.30</td>\n",
       "      <td>2.18</td>\n",
       "      <td>2.04</td>\n",
       "      <td>1.91</td>\n",
       "      <td>1.77</td>\n",
       "      <td>1.64</td>\n",
       "      <td>2.46</td>\n",
       "      <td>2.35</td>\n",
       "      <td>2.23</td>\n",
       "      <td>3.19</td>\n",
       "      <td>3.36</td>\n",
       "    </tr>\n",
       "    <tr>\n",
       "      <th>4</th>\n",
       "      <td>ARG</td>\n",
       "      <td>Argentina</td>\n",
       "      <td>South America</td>\n",
       "      <td>7.71</td>\n",
       "      <td>7.18</td>\n",
       "      <td>7.22</td>\n",
       "      <td>7.10</td>\n",
       "      <td>7.27</td>\n",
       "      <td>7.52</td>\n",
       "      <td>8.11</td>\n",
       "      <td>8.35</td>\n",
       "      <td>9.22</td>\n",
       "      <td>9.84</td>\n",
       "      <td>11.46</td>\n",
       "      <td>10.90</td>\n",
       "    </tr>\n",
       "    <tr>\n",
       "      <th>...</th>\n",
       "      <td>...</td>\n",
       "      <td>...</td>\n",
       "      <td>...</td>\n",
       "      <td>...</td>\n",
       "      <td>...</td>\n",
       "      <td>...</td>\n",
       "      <td>...</td>\n",
       "      <td>...</td>\n",
       "      <td>...</td>\n",
       "      <td>...</td>\n",
       "      <td>...</td>\n",
       "      <td>...</td>\n",
       "      <td>...</td>\n",
       "      <td>...</td>\n",
       "      <td>...</td>\n",
       "    </tr>\n",
       "    <tr>\n",
       "      <th>175</th>\n",
       "      <td>VNM</td>\n",
       "      <td>Vietnam</td>\n",
       "      <td>Asia</td>\n",
       "      <td>1.11</td>\n",
       "      <td>1.00</td>\n",
       "      <td>1.03</td>\n",
       "      <td>1.32</td>\n",
       "      <td>1.26</td>\n",
       "      <td>1.85</td>\n",
       "      <td>1.85</td>\n",
       "      <td>1.87</td>\n",
       "      <td>1.16</td>\n",
       "      <td>2.04</td>\n",
       "      <td>2.39</td>\n",
       "      <td>2.17</td>\n",
       "    </tr>\n",
       "    <tr>\n",
       "      <th>178</th>\n",
       "      <td>YEM</td>\n",
       "      <td>Yemen, Rep.</td>\n",
       "      <td>Asia</td>\n",
       "      <td>12.83</td>\n",
       "      <td>13.23</td>\n",
       "      <td>13.17</td>\n",
       "      <td>13.27</td>\n",
       "      <td>13.47</td>\n",
       "      <td>13.77</td>\n",
       "      <td>13.43</td>\n",
       "      <td>13.30</td>\n",
       "      <td>13.15</td>\n",
       "      <td>13.06</td>\n",
       "      <td>13.39</td>\n",
       "      <td>13.57</td>\n",
       "    </tr>\n",
       "    <tr>\n",
       "      <th>179</th>\n",
       "      <td>ZAF</td>\n",
       "      <td>South Africa</td>\n",
       "      <td>Africa</td>\n",
       "      <td>24.68</td>\n",
       "      <td>24.64</td>\n",
       "      <td>24.73</td>\n",
       "      <td>24.56</td>\n",
       "      <td>24.89</td>\n",
       "      <td>25.15</td>\n",
       "      <td>26.54</td>\n",
       "      <td>27.04</td>\n",
       "      <td>26.91</td>\n",
       "      <td>28.47</td>\n",
       "      <td>29.22</td>\n",
       "      <td>33.56</td>\n",
       "    </tr>\n",
       "    <tr>\n",
       "      <th>180</th>\n",
       "      <td>ZMB</td>\n",
       "      <td>Zambia</td>\n",
       "      <td>Africa</td>\n",
       "      <td>13.19</td>\n",
       "      <td>10.55</td>\n",
       "      <td>7.85</td>\n",
       "      <td>8.61</td>\n",
       "      <td>9.36</td>\n",
       "      <td>10.13</td>\n",
       "      <td>10.87</td>\n",
       "      <td>11.63</td>\n",
       "      <td>12.01</td>\n",
       "      <td>12.52</td>\n",
       "      <td>12.85</td>\n",
       "      <td>13.03</td>\n",
       "    </tr>\n",
       "    <tr>\n",
       "      <th>181</th>\n",
       "      <td>ZWE</td>\n",
       "      <td>Zimbabwe</td>\n",
       "      <td>Africa</td>\n",
       "      <td>5.21</td>\n",
       "      <td>5.37</td>\n",
       "      <td>5.15</td>\n",
       "      <td>4.98</td>\n",
       "      <td>4.77</td>\n",
       "      <td>4.78</td>\n",
       "      <td>4.79</td>\n",
       "      <td>4.78</td>\n",
       "      <td>4.80</td>\n",
       "      <td>4.83</td>\n",
       "      <td>5.35</td>\n",
       "      <td>5.17</td>\n",
       "    </tr>\n",
       "  </tbody>\n",
       "</table>\n",
       "<p>174 rows × 15 columns</p>\n",
       "</div>"
      ],
      "text/plain": [
       "    country_code          country_name      continent   2010   2011   2012  \\\n",
       "0            AFG           Afghanistan           Asia  11.35  11.05  11.34   \n",
       "1            AGO                Angola         Africa   9.43   7.36   7.35   \n",
       "2            ALB               Albania         Europe  14.09  13.48  13.38   \n",
       "3            ARE  United Arab Emirates           Asia   2.48   2.30   2.18   \n",
       "4            ARG             Argentina  South America   7.71   7.18   7.22   \n",
       "..           ...                   ...            ...    ...    ...    ...   \n",
       "175          VNM               Vietnam           Asia   1.11   1.00   1.03   \n",
       "178          YEM           Yemen, Rep.           Asia  12.83  13.23  13.17   \n",
       "179          ZAF          South Africa         Africa  24.68  24.64  24.73   \n",
       "180          ZMB                Zambia         Africa  13.19  10.55   7.85   \n",
       "181          ZWE              Zimbabwe         Africa   5.21   5.37   5.15   \n",
       "\n",
       "      2013   2014   2015   2016   2017   2018   2019   2020   2021  \n",
       "0    11.19  11.14  11.13  11.16  11.18  11.15  11.22  11.71  13.28  \n",
       "1     7.37   7.37   7.39   7.41   7.41   7.42   7.42   8.33   8.53  \n",
       "2    15.87  18.05  17.19  15.42  13.62  12.30  11.47  13.33  11.82  \n",
       "3     2.04   1.91   1.77   1.64   2.46   2.35   2.23   3.19   3.36  \n",
       "4     7.10   7.27   7.52   8.11   8.35   9.22   9.84  11.46  10.90  \n",
       "..     ...    ...    ...    ...    ...    ...    ...    ...    ...  \n",
       "175   1.32   1.26   1.85   1.85   1.87   1.16   2.04   2.39   2.17  \n",
       "178  13.27  13.47  13.77  13.43  13.30  13.15  13.06  13.39  13.57  \n",
       "179  24.56  24.89  25.15  26.54  27.04  26.91  28.47  29.22  33.56  \n",
       "180   8.61   9.36  10.13  10.87  11.63  12.01  12.52  12.85  13.03  \n",
       "181   4.98   4.77   4.78   4.79   4.78   4.80   4.83   5.35   5.17  \n",
       "\n",
       "[174 rows x 15 columns]"
      ]
     },
     "execution_count": 26,
     "metadata": {},
     "output_type": "execute_result"
    }
   ],
   "source": [
    "not_oceania = ~unemployment['continent'].isin(['Oceania'])\n",
    "unemployment[not_oceania]"
   ]
  },
  {
   "cell_type": "code",
   "execution_count": 29,
   "metadata": {},
   "outputs": [
    {
     "data": {
      "image/png": "[encoded data removed]",
      "text/plain": [
       "<Figure size 640x480 with 1 Axes>"
      ]
     },
     "metadata": {},
     "output_type": "display_data"
    }
   ],
   "source": [
    "\n",
    "sns.boxplot(data = unemployment, x = '2021', y = 'continent', sym = '')\n",
    "plt.show()"
   ]
  },
  {
   "cell_type": "markdown",
   "metadata": {},
   "source": [
    "#### Data Summarization"
   ]
  },
  {
   "cell_type": "code",
   "execution_count": 39,
   "metadata": {},
   "outputs": [
    {
     "data": {
      "text/html": [
       "<div>\n",
       "<style scoped>\n",
       "    .dataframe tbody tr th:only-of-type {\n",
       "        vertical-align: middle;\n",
       "    }\n",
       "\n",
       "    .dataframe tbody tr th {\n",
       "        vertical-align: top;\n",
       "    }\n",
       "\n",
       "    .dataframe thead th {\n",
       "        text-align: right;\n",
       "    }\n",
       "</style>\n",
       "<table border=\"1\" class=\"dataframe\">\n",
       "  <thead>\n",
       "    <tr style=\"text-align: right;\">\n",
       "      <th></th>\n",
       "      <th>media_2020</th>\n",
       "      <th>media_2021</th>\n",
       "    </tr>\n",
       "    <tr>\n",
       "      <th>continent</th>\n",
       "      <th></th>\n",
       "      <th></th>\n",
       "    </tr>\n",
       "  </thead>\n",
       "  <tbody>\n",
       "    <tr>\n",
       "      <th>Africa</th>\n",
       "      <td>10.307736</td>\n",
       "      <td>10.473585</td>\n",
       "    </tr>\n",
       "    <tr>\n",
       "      <th>Asia</th>\n",
       "      <td>7.012340</td>\n",
       "      <td>6.906170</td>\n",
       "    </tr>\n",
       "    <tr>\n",
       "      <th>Europe</th>\n",
       "      <td>7.470513</td>\n",
       "      <td>7.414872</td>\n",
       "    </tr>\n",
       "    <tr>\n",
       "      <th>North America</th>\n",
       "      <td>9.297778</td>\n",
       "      <td>9.155000</td>\n",
       "    </tr>\n",
       "    <tr>\n",
       "      <th>Oceania</th>\n",
       "      <td>4.273750</td>\n",
       "      <td>4.280000</td>\n",
       "    </tr>\n",
       "    <tr>\n",
       "      <th>South America</th>\n",
       "      <td>10.275000</td>\n",
       "      <td>9.924167</td>\n",
       "    </tr>\n",
       "  </tbody>\n",
       "</table>\n",
       "</div>"
      ],
      "text/plain": [
       "               media_2020  media_2021\n",
       "continent                            \n",
       "Africa          10.307736   10.473585\n",
       "Asia             7.012340    6.906170\n",
       "Europe           7.470513    7.414872\n",
       "North America    9.297778    9.155000\n",
       "Oceania          4.273750    4.280000\n",
       "South America   10.275000    9.924167"
      ]
     },
     "execution_count": 39,
     "metadata": {},
     "output_type": "execute_result"
    }
   ],
   "source": [
    "unemployment.groupby('continent')[['2020', '2021']].agg(\n",
    "                                                    media_2020 = ('2020', 'mean'), \n",
    "                                                    media_2021 = ('2021','mean')\n",
    "                                                    )"
   ]
  },
  {
   "cell_type": "code",
   "execution_count": 45,
   "metadata": {},
   "outputs": [
    {
     "data": {
      "image/png": "[encoded data removed]",
      "text/plain": [
       "<Figure size 500x500 with 1 Axes>"
      ]
     },
     "metadata": {},
     "output_type": "display_data"
    }
   ],
   "source": [
    "sns.catplot(data = unemployment, kind = 'bar', x = 'continent', y = '2021', errorbar= None)\n",
    "plt.show()"
   ]
  }
 ],
 "metadata": {
  "kernelspec": {
   "display_name": "base",
   "language": "python",
   "name": "python3"
  },
  "language_info": {
   "codemirror_mode": {
    "name": "ipython",
    "version": 3
   },
   "file_extension": ".py",
   "mimetype": "text/x-python",
   "name": "python",
   "nbconvert_exporter": "python",
   "pygments_lexer": "ipython3",
   "version": "3.11.8"
  }
 },
 "nbformat": 4,
 "nbformat_minor": 2
}
